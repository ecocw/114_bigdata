{
  "cells": [
    {
      "cell_type": "markdown",
      "metadata": {
        "id": "view-in-github",
        "colab_type": "text"
      },
      "source": [
        "<a href=\"https://colab.research.google.com/github/ecocw/114_bigdata/blob/U02.%E5%A4%A7%E6%95%B8%E6%93%9A%E8%B3%87%E6%96%99%E5%BB%BA%E7%BD%AE/Code_U02_2_%E6%B5%81%E7%A8%8B%E6%8E%A7%E5%88%B6.ipynb\" target=\"_parent\"><img src=\"https://colab.research.google.com/assets/colab-badge.svg\" alt=\"Open In Colab\"/></a>"
      ]
    },
    {
      "cell_type": "markdown",
      "metadata": {
        "id": "KTdYCgpAAZFD"
      },
      "source": [
        "# 單元2.2:Python流程控制命令"
      ]
    },
    {
      "cell_type": "markdown",
      "metadata": {
        "id": "UcnRigoJAZFF"
      },
      "source": [
        "## ★ 1. if 判斷式"
      ]
    },
    {
      "cell_type": "markdown",
      "metadata": {
        "id": "XInGIb-NAZFF"
      },
      "source": [
        "## 程式碼縮排格式\n",
        "    Python以冒號及縮排表示程式區塊\n",
        "    在區塊中所有語句必須縮進相同的量，不然會出現錯誤IndentationError訊息\n",
        "    縮排為Tab鍵或4個空白鏈\n",
        "    "
      ]
    },
    {
      "cell_type": "markdown",
      "metadata": {
        "id": "uPr_W9FrAZFG"
      },
      "source": [
        "### (1)單向判斷式 (if)"
      ]
    },
    {
      "cell_type": "code",
      "execution_count": 1,
      "metadata": {
        "colab": {
          "base_uri": "https://localhost:8080/"
        },
        "id": "-LdAr-FNAZFG",
        "outputId": "264f3228-b5d5-4a0a-bd0d-5c903c78118d"
      },
      "outputs": [
        {
          "output_type": "stream",
          "name": "stdout",
          "text": [
            "請輸入密碼: 1234\n",
            "歡迎光臨!\n"
          ]
        }
      ],
      "source": [
        "pw=input(\"請輸入密碼: \")\n",
        "if (pw==\"1234\"):\n",
        "    print(\"歡迎光臨!\")"
      ]
    },
    {
      "cell_type": "markdown",
      "metadata": {
        "id": "L3G2ArUZAZFG"
      },
      "source": [
        "### 雙向判斷式 (if... else...)"
      ]
    },
    {
      "cell_type": "code",
      "execution_count": 2,
      "metadata": {
        "colab": {
          "base_uri": "https://localhost:8080/"
        },
        "id": "WLTbufvhAZFH",
        "outputId": "deebe1ca-1f0b-4346-f5bf-ac1968a852ca"
      },
      "outputs": [
        {
          "output_type": "stream",
          "name": "stdout",
          "text": [
            "請輸入密碼: 1234\n",
            "歡迎光臨!\n"
          ]
        }
      ],
      "source": [
        "pw=input(\"請輸入密碼: \")\n",
        "if (pw==\"1234\"):\n",
        "    print(\"歡迎光臨!\")\n",
        "else:\n",
        "    print(\"密碼錯誤!\")"
      ]
    },
    {
      "cell_type": "markdown",
      "metadata": {
        "id": "Gxg92a4IAZFH"
      },
      "source": [
        "### (2)多向判斷式 (if ...elif...else)"
      ]
    },
    {
      "cell_type": "code",
      "execution_count": 3,
      "metadata": {
        "colab": {
          "base_uri": "https://localhost:8080/"
        },
        "id": "W96k4KK6AZFH",
        "outputId": "e8be7963-5d46-4b86-f77f-423b9efd4ec2"
      },
      "outputs": [
        {
          "output_type": "stream",
          "name": "stdout",
          "text": [
            "請輸入成績: 88\n",
            "A\n"
          ]
        }
      ],
      "source": [
        "score=int(input(\"請輸入成績: \"))\n",
        "if score >= 90:\n",
        "    print(\"A+\")\n",
        "elif score >= 80:\n",
        "    print(\"A\")\n",
        "elif score >= 70:\n",
        "    print(\"B\")\n",
        "elif score >= 60:\n",
        "    print(\"C\")\n",
        "else:\n",
        "    print(\"Fail\")"
      ]
    },
    {
      "cell_type": "markdown",
      "metadata": {
        "id": "L0bU0dgMAZFH"
      },
      "source": [
        "### (3)巢狀判斷式(判斷式內包含判斷式)\n",
        "\n",
        "### 範例：閏年判斷\n",
        "    若西元兩位不為00，且為4的倍數，則該年為閏年，否則非閏年\n",
        "    若西元兩位為00，且可被400整除者，則該年為閏年，否則非閏年\n",
        "    判斷口訣：四年一閏，百年不閏，四百年又閏。"
      ]
    },
    {
      "cell_type": "code",
      "execution_count": 4,
      "metadata": {
        "colab": {
          "base_uri": "https://localhost:8080/"
        },
        "id": "imSdlaAXAZFH",
        "outputId": "252b24a7-0df3-431e-bac0-fe686a3c1e41"
      },
      "outputs": [
        {
          "output_type": "stream",
          "name": "stdout",
          "text": [
            "請輸入西元年份：2025\n",
            "西元2025年非閏年\n"
          ]
        }
      ],
      "source": [
        "year=int(input('請輸入西元年份：'))\n",
        "\n",
        "if(year%100!=0):                        #不可被 100 整除\n",
        "    if(year%4==0):                      #被 4 整除\n",
        "        print('西元%d年為閏年'%(year))\n",
        "    else:\n",
        "        print('西元%d年非閏年' %(year))\n",
        "else:\n",
        "    if(year%400==0):                    #被100及400整除\n",
        "        print('西元%d年為閏年'%(year))\n",
        "    else:\n",
        "        print('西元%d年非閏年' %(year))"
      ]
    },
    {
      "cell_type": "markdown",
      "metadata": {
        "id": "wqfLfAYeAZFH"
      },
      "source": [
        "## ★ 2. for 迴圈"
      ]
    },
    {
      "cell_type": "code",
      "execution_count": 5,
      "metadata": {
        "colab": {
          "base_uri": "https://localhost:8080/"
        },
        "id": "F05lZRA2AZFH",
        "outputId": "5490cd4c-203f-4250-a283-36daf226689f"
      },
      "outputs": [
        {
          "output_type": "stream",
          "name": "stdout",
          "text": [
            "Curry\n",
            "Jordan\n",
            "James\n",
            "Durant\n",
            "Obama\n"
          ]
        }
      ],
      "source": [
        "players=['Curry','Jordan','James','Durant','Obama']\n",
        "for player in players:\n",
        "    print(player)"
      ]
    },
    {
      "cell_type": "markdown",
      "metadata": {
        "id": "4VHN3RqWAZFI"
      },
      "source": [
        "### (1) range函數\n",
        "     range() 函數可創建一個整數列表，一般用在 for 循環中。\n",
        "     語法range(start, stop[, step])\n",
        "     start 指的是計數起始值，默認是 0；stop 指的是計數結束值，但不包括 stop ；step 是步長，默認為 1，不可以為 0 。\n",
        "     range(5)於 range(0,5) 代表[0,1,2,3,4] 。"
      ]
    },
    {
      "cell_type": "code",
      "execution_count": 6,
      "metadata": {
        "colab": {
          "base_uri": "https://localhost:8080/"
        },
        "id": "_jsXrJEfAZFI",
        "outputId": "52d3c676-72fb-4618-e564-bbb348fd6408"
      },
      "outputs": [
        {
          "output_type": "execute_result",
          "data": {
            "text/plain": [
              "[0, 1, 2, 3, 4]"
            ]
          },
          "metadata": {},
          "execution_count": 6
        }
      ],
      "source": [
        "list1=range(5)\n",
        "list(list1)"
      ]
    },
    {
      "cell_type": "code",
      "execution_count": 7,
      "metadata": {
        "colab": {
          "base_uri": "https://localhost:8080/"
        },
        "id": "OQh9w9wmAZFI",
        "outputId": "ae64db52-8a65-4fff-85a4-ff9107ea253b"
      },
      "outputs": [
        {
          "output_type": "execute_result",
          "data": {
            "text/plain": [
              "[4, 5, 6]"
            ]
          },
          "metadata": {},
          "execution_count": 7
        }
      ],
      "source": [
        "list2=range(4,7)\n",
        "list(list2)"
      ]
    },
    {
      "cell_type": "code",
      "execution_count": 8,
      "metadata": {
        "colab": {
          "base_uri": "https://localhost:8080/"
        },
        "id": "ZgO1gbeHAZFI",
        "outputId": "ec653cf6-c8e1-4851-c00d-a4e23eee8146"
      },
      "outputs": [
        {
          "output_type": "execute_result",
          "data": {
            "text/plain": [
              "[-4, -3, -2, -1, 0, 1, 2, 3, 4, 5, 6]"
            ]
          },
          "metadata": {},
          "execution_count": 8
        }
      ],
      "source": [
        "list3=range(-4, 7)\n",
        "list(list3)"
      ]
    },
    {
      "cell_type": "code",
      "execution_count": 9,
      "metadata": {
        "colab": {
          "base_uri": "https://localhost:8080/"
        },
        "id": "48tS-Q9mAZFI",
        "outputId": "58e57e15-d1d3-450a-ee31-c34307012b36"
      },
      "outputs": [
        {
          "output_type": "execute_result",
          "data": {
            "text/plain": [
              "[4, 6]"
            ]
          },
          "metadata": {},
          "execution_count": 9
        }
      ],
      "source": [
        "list4=range(4, 7, 2)\n",
        "list(list4)"
      ]
    },
    {
      "cell_type": "code",
      "execution_count": 10,
      "metadata": {
        "colab": {
          "base_uri": "https://localhost:8080/"
        },
        "id": "-h8z5xduAZFI",
        "outputId": "a7dcf913-fa1b-40ec-d7e1-5605a07a49d3"
      },
      "outputs": [
        {
          "output_type": "execute_result",
          "data": {
            "text/plain": [
              "[10, 9, 8, 7, 6, 5, 4]"
            ]
          },
          "metadata": {},
          "execution_count": 10
        }
      ],
      "source": [
        "list5=range(10, 3, -1)\n",
        "list(list5)"
      ]
    },
    {
      "cell_type": "markdown",
      "metadata": {
        "id": "SwUpthLfAZFI"
      },
      "source": [
        "### (2)for ... in range()"
      ]
    },
    {
      "cell_type": "code",
      "execution_count": 11,
      "metadata": {
        "colab": {
          "base_uri": "https://localhost:8080/"
        },
        "id": "HCmix4pFAZFI",
        "outputId": "ed0c6474-307b-4e3c-a0de-4780c98ef551"
      },
      "outputs": [
        {
          "output_type": "stream",
          "name": "stdout",
          "text": [
            "0\n",
            "1\n",
            "2\n",
            "3\n",
            "4\n"
          ]
        }
      ],
      "source": [
        "for i in range(5):\n",
        "    print(i)"
      ]
    },
    {
      "cell_type": "code",
      "execution_count": 12,
      "metadata": {
        "colab": {
          "base_uri": "https://localhost:8080/"
        },
        "id": "Iy7gE5JhAZFI",
        "outputId": "03413727-2f6f-4316-d409-9fbc36ddb96b"
      },
      "outputs": [
        {
          "output_type": "stream",
          "name": "stdout",
          "text": [
            "4\n",
            "5\n",
            "6\n"
          ]
        }
      ],
      "source": [
        "for i in range(4, 7):\n",
        "    print(i)"
      ]
    },
    {
      "cell_type": "code",
      "execution_count": 13,
      "metadata": {
        "colab": {
          "base_uri": "https://localhost:8080/"
        },
        "id": "OACJmzGyAZFI",
        "outputId": "44114ec1-f738-4b56-9a73-b869b1b772b7"
      },
      "outputs": [
        {
          "output_type": "stream",
          "name": "stdout",
          "text": [
            "-4\n",
            "-3\n",
            "-2\n",
            "-1\n",
            "0\n",
            "1\n",
            "2\n",
            "3\n",
            "4\n",
            "5\n",
            "6\n"
          ]
        }
      ],
      "source": [
        "for i in range(-4, 7):\n",
        "    print(i)"
      ]
    },
    {
      "cell_type": "code",
      "execution_count": 14,
      "metadata": {
        "colab": {
          "base_uri": "https://localhost:8080/"
        },
        "id": "E_CjLQjbAZFI",
        "outputId": "2a771296-5a6e-40eb-9a62-30b5af368d8b"
      },
      "outputs": [
        {
          "output_type": "stream",
          "name": "stdout",
          "text": [
            "4\n",
            "6\n"
          ]
        }
      ],
      "source": [
        "for i in range(4, 7, 2):\n",
        "    print(i)"
      ]
    },
    {
      "cell_type": "code",
      "execution_count": 15,
      "metadata": {
        "colab": {
          "base_uri": "https://localhost:8080/"
        },
        "id": "boIsKMXvAZFJ",
        "outputId": "978f547d-9586-444e-825c-2a2c10d33e27"
      },
      "outputs": [
        {
          "output_type": "stream",
          "name": "stdout",
          "text": [
            "10\n",
            "9\n",
            "8\n",
            "7\n",
            "6\n",
            "5\n",
            "4\n"
          ]
        }
      ],
      "source": [
        "for i in range(10, 3, -1):\n",
        "    print(i)"
      ]
    },
    {
      "cell_type": "code",
      "execution_count": 16,
      "metadata": {
        "colab": {
          "base_uri": "https://localhost:8080/"
        },
        "id": "DqPldTV3AZFJ",
        "outputId": "37fc098d-aaca-4358-e6aa-cc274f759c12"
      },
      "outputs": [
        {
          "output_type": "stream",
          "name": "stdout",
          "text": [
            "股票: 2303\n",
            "股票: 2317\n",
            "股票: 2330\n"
          ]
        }
      ],
      "source": [
        "stocks = ['2303', '2317',  '2330']\n",
        "for index in range(3):\n",
        "      print('股票:', stocks[index])"
      ]
    },
    {
      "cell_type": "code",
      "execution_count": 17,
      "metadata": {
        "colab": {
          "base_uri": "https://localhost:8080/"
        },
        "id": "uNXf526IAZFJ",
        "outputId": "7d7f435d-0163-4b60-ece4-ee31546f844b"
      },
      "outputs": [
        {
          "output_type": "stream",
          "name": "stdout",
          "text": [
            "股票: 2303\n",
            "股票: 2317\n",
            "股票: 2330\n"
          ]
        }
      ],
      "source": [
        "stocks = ['2303', '2317',  '2330']\n",
        "for index in range(len(stocks)):\n",
        "      print('股票:', stocks[index])"
      ]
    },
    {
      "cell_type": "markdown",
      "metadata": {
        "id": "0lVHKgeDAZFJ"
      },
      "source": [
        "### (3) enumerate函數\n",
        "    用途：enumerate函數輸出可迭代對象的數值以及編號\n",
        "    語法：enumerate(iterable, start_index)"
      ]
    },
    {
      "cell_type": "code",
      "execution_count": 18,
      "metadata": {
        "colab": {
          "base_uri": "https://localhost:8080/"
        },
        "id": "A3vVwHtrAZFJ",
        "outputId": "6111ddcc-3965-4a08-a20e-3b6dfd8d66f8"
      },
      "outputs": [
        {
          "output_type": "stream",
          "name": "stdout",
          "text": [
            "(1, '非常不同意')\n",
            "(2, '不同意')\n",
            "(3, '普通')\n",
            "(4, '同意')\n",
            "(5, '非常同意')\n"
          ]
        }
      ],
      "source": [
        "survey=['非常不同意','不同意','普通','同意','非常同意']\n",
        "for s in enumerate(survey,1):\n",
        "    print(s)"
      ]
    },
    {
      "cell_type": "markdown",
      "metadata": {
        "id": "r5GpsopwAZFJ"
      },
      "source": [
        "### (4) 巢狀迴圈\n",
        "### 九九乘法表"
      ]
    },
    {
      "cell_type": "code",
      "execution_count": 19,
      "metadata": {
        "colab": {
          "base_uri": "https://localhost:8080/"
        },
        "id": "4j1y9q-9AZFJ",
        "outputId": "8489af9e-4acc-4a09-b51f-fe97856fec33"
      },
      "outputs": [
        {
          "output_type": "stream",
          "name": "stdout",
          "text": [
            "1*1=1 1*2=2 1*3=3 1*4=4 1*5=5 1*6=6 1*7=7 1*8=8 1*9=9 \n",
            "2*1=2 2*2=4 2*3=6 2*4=8 2*5=10 2*6=12 2*7=14 2*8=16 2*9=18 \n",
            "3*1=3 3*2=6 3*3=9 3*4=12 3*5=15 3*6=18 3*7=21 3*8=24 3*9=27 \n",
            "4*1=4 4*2=8 4*3=12 4*4=16 4*5=20 4*6=24 4*7=28 4*8=32 4*9=36 \n",
            "5*1=5 5*2=10 5*3=15 5*4=20 5*5=25 5*6=30 5*7=35 5*8=40 5*9=45 \n",
            "6*1=6 6*2=12 6*3=18 6*4=24 6*5=30 6*6=36 6*7=42 6*8=48 6*9=54 \n",
            "7*1=7 7*2=14 7*3=21 7*4=28 7*5=35 7*6=42 7*7=49 7*8=56 7*9=63 \n",
            "8*1=8 8*2=16 8*3=24 8*4=32 8*5=40 8*6=48 8*7=56 8*8=64 8*9=72 \n",
            "9*1=9 9*2=18 9*3=27 9*4=36 9*5=45 9*6=54 9*7=63 9*8=72 9*9=81 \n"
          ]
        }
      ],
      "source": [
        "for i in range(1,10,1):\n",
        "    for j in range(1,10,1):\n",
        "        print(f'{i}*{j}={i*j}', end=' ')  # 使用格式化字串，最後 end=' '表示不換行\n",
        "    print('')      # 內層迴圈執行結束後，執行 print('') 會換行顯示"
      ]
    },
    {
      "cell_type": "markdown",
      "metadata": {
        "id": "hTEVzt1YAZFJ"
      },
      "source": [
        "## 3. While迴圈\n",
        "### 範例：Fibonacci 序列"
      ]
    },
    {
      "cell_type": "code",
      "execution_count": 20,
      "metadata": {
        "colab": {
          "base_uri": "https://localhost:8080/"
        },
        "id": "ZVUDjPAQAZFJ",
        "outputId": "e74e50f6-df5a-4969-d3e4-1d4f119da479"
      },
      "outputs": [
        {
          "output_type": "stream",
          "name": "stdout",
          "text": [
            "1  2  3  5  8  13  21  34  55  89  "
          ]
        }
      ],
      "source": [
        "i, n1, n2 = 0, 0, 1\n",
        "while i < 10:\n",
        "    new = n1 + n2\n",
        "    print(new,' ', end='')\n",
        "    n1, n2 = n2, new\n",
        "    i = i + 1"
      ]
    },
    {
      "cell_type": "markdown",
      "metadata": {
        "id": "E_nOauFFAZFJ"
      },
      "source": [
        "### 範例：在銀行存入10000元，年利率為1%，至少需要經過多少年才能將本金翻倍"
      ]
    },
    {
      "cell_type": "code",
      "execution_count": 21,
      "metadata": {
        "colab": {
          "base_uri": "https://localhost:8080/"
        },
        "id": "abQ59j0EAZFJ",
        "outputId": "4b5ef27f-e9e4-43b1-b92c-fd5264bc28a6"
      },
      "outputs": [
        {
          "output_type": "stream",
          "name": "stdout",
          "text": [
            "70\n"
          ]
        }
      ],
      "source": [
        "principal = 10000\n",
        "year = 0\n",
        "interest_rate = 0.01\n",
        "\n",
        "while principal < 20000:\n",
        "    principal = principal * (1 + interest_rate)\n",
        "    year += 1\n",
        "\n",
        "print(year)"
      ]
    },
    {
      "cell_type": "markdown",
      "metadata": {
        "id": "W4iKBSzvAZFJ"
      },
      "source": [
        "## ★ 3. 迴圈中斷指令\n",
        "### ★ break指令"
      ]
    },
    {
      "cell_type": "code",
      "execution_count": 22,
      "metadata": {
        "colab": {
          "base_uri": "https://localhost:8080/"
        },
        "id": "JtDR3QAWAZFJ",
        "outputId": "e6bb4004-bcfd-4671-c680-061653c944f0"
      },
      "outputs": [
        {
          "output_type": "stream",
          "name": "stdout",
          "text": [
            "1,2,3,4,"
          ]
        }
      ],
      "source": [
        "for i in range(1,10):      #1-9數字\n",
        "    if(i==5):              #i等於5時中止迴圈\n",
        "        break\n",
        "    print(i,end=\",\")        #列印結果, 用逗號連結,end=' '表示不換行"
      ]
    },
    {
      "cell_type": "markdown",
      "metadata": {
        "id": "2cYGDzqsAZFJ"
      },
      "source": [
        "### ★ continue指令"
      ]
    },
    {
      "cell_type": "code",
      "execution_count": 23,
      "metadata": {
        "colab": {
          "base_uri": "https://localhost:8080/"
        },
        "id": "K2NiGVgXAZFJ",
        "outputId": "ca5c8a3d-aa33-4227-d90b-d32f91ed52b7"
      },
      "outputs": [
        {
          "output_type": "stream",
          "name": "stdout",
          "text": [
            "1,2,3,4,6,7,8,9,"
          ]
        }
      ],
      "source": [
        "for i in range(1,10):      #1-9數字\n",
        "    if(i==5):              #i等於5時跳開迴圈,執行6\n",
        "        continue\n",
        "    print(i,end=\",\")        #列印結果, 用逗號連結，最後 end=' '表示不換行"
      ]
    },
    {
      "cell_type": "code",
      "execution_count": 24,
      "metadata": {
        "colab": {
          "base_uri": "https://localhost:8080/"
        },
        "id": "MRo17d8nAZFK",
        "outputId": "fc694744-f5b1-40f3-d19a-b174a31c938b"
      },
      "outputs": [
        {
          "output_type": "stream",
          "name": "stdout",
          "text": [
            "['James', 202]\n",
            "['Durant', 205]\n",
            "['Obama', 211]\n"
          ]
        }
      ],
      "source": [
        "players=[['Curry',193],\n",
        "         ['Jordan',199],\n",
        "         ['James',202],\n",
        "         ['Durant',205],\n",
        "         ['Obama',211]]\n",
        "for player in players:\n",
        "    if player[1]<200:\n",
        "        continue\n",
        "    print(player)"
      ]
    },
    {
      "cell_type": "code",
      "execution_count": 25,
      "metadata": {
        "colab": {
          "base_uri": "https://localhost:8080/"
        },
        "id": "bqgsmsQYAZFK",
        "outputId": "98af5948-71c7-4156-9c3e-ee8dda2402d9"
      },
      "outputs": [
        {
          "output_type": "stream",
          "name": "stdout",
          "text": [
            "value : 9\n",
            "value : 7\n",
            "value : 6\n",
            "value : 5\n",
            "value : 4\n"
          ]
        }
      ],
      "source": [
        "var = 10\n",
        "while var > 0:\n",
        "    var = var -1\n",
        "    if var == 8: continue\n",
        "    if var ==3:  break\n",
        "    print ('value :', var)"
      ]
    },
    {
      "cell_type": "markdown",
      "metadata": {
        "id": "KN_FDbXKAZFK"
      },
      "source": [
        "# ★ 4.函數"
      ]
    },
    {
      "cell_type": "code",
      "execution_count": 26,
      "metadata": {
        "id": "myd579tUAZFK"
      },
      "outputs": [],
      "source": [
        "def cal(x,y):\n",
        "    div=x//y     #商數\n",
        "    mod=x%y     #餘數\n",
        "    return div, mod"
      ]
    },
    {
      "cell_type": "code",
      "execution_count": 27,
      "metadata": {
        "colab": {
          "base_uri": "https://localhost:8080/"
        },
        "id": "cFzM8oQvAZFK",
        "outputId": "839a8fc8-fc7b-4281-de24-5408a83d1393"
      },
      "outputs": [
        {
          "output_type": "stream",
          "name": "stdout",
          "text": [
            "120除以7的商數為 17\n",
            "120除以7的餘數為 1\n"
          ]
        }
      ],
      "source": [
        "x=120\n",
        "y=7\n",
        "a,b=cal(x,y)    #函數回傳\n",
        "print(str(x)+'除以'+str(y)+'的商數為', a)\n",
        "print(str(x)+'除以'+str(y)+'的餘數為', b)"
      ]
    }
  ],
  "metadata": {
    "kernelspec": {
      "display_name": "Python 3 (ipykernel)",
      "language": "python",
      "name": "python3"
    },
    "language_info": {
      "codemirror_mode": {
        "name": "ipython",
        "version": 3
      },
      "file_extension": ".py",
      "mimetype": "text/x-python",
      "name": "python",
      "nbconvert_exporter": "python",
      "pygments_lexer": "ipython3",
      "version": "3.11.7"
    },
    "colab": {
      "provenance": [],
      "include_colab_link": true
    }
  },
  "nbformat": 4,
  "nbformat_minor": 0
}