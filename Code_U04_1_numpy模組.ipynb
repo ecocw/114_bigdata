{
  "cells": [
    {
      "cell_type": "markdown",
      "metadata": {
        "id": "view-in-github",
        "colab_type": "text"
      },
      "source": [
        "<a href=\"https://colab.research.google.com/github/ecocw/114_bigdata/blob/U04.%E8%B3%87%E6%96%99%E6%8E%A2%E7%B4%A2%E8%88%87%E8%A6%96%E8%A6%BA%E5%8C%96/Code_U04_1_numpy%E6%A8%A1%E7%B5%84.ipynb\" target=\"_parent\"><img src=\"https://colab.research.google.com/assets/colab-badge.svg\" alt=\"Open In Colab\"/></a>"
      ]
    },
    {
      "cell_type": "markdown",
      "metadata": {
        "id": "1F056WMqf2tF"
      },
      "source": [
        "# numpy模組"
      ]
    },
    {
      "cell_type": "markdown",
      "metadata": {
        "id": "OyP8vEvxf2tH"
      },
      "source": [
        "## ★1.多維陣列建立及查詢屬性\n",
        "    np.array() 建立時在小括號內填上中括號, 再將陣列數值放在中括號內, 彼此以逗號隔開"
      ]
    },
    {
      "cell_type": "code",
      "execution_count": 1,
      "metadata": {
        "colab": {
          "base_uri": "https://localhost:8080/"
        },
        "id": "IEhqcgzDf2tH",
        "outputId": "3e955d05-3deb-480a-ca08-5c30cc219647"
      },
      "outputs": [
        {
          "output_type": "stream",
          "name": "stdout",
          "text": [
            "[[1 2 3]\n",
            " [4 5 6]]\n",
            "2\n",
            "(2, 3)\n",
            "6\n",
            "int64\n",
            "8\n",
            "48\n"
          ]
        }
      ],
      "source": [
        "import numpy as np\n",
        "arr = np.array([[1, 2, 3], [4, 5, 6]])   #np.array() 建立陣列\n",
        "\n",
        "print(arr)          # 輸出陣列本身\n",
        "print(arr.ndim)     # 陣列的維度數 (dimension) (這裡是 2維陣列，所以是 2)\n",
        "print(arr.shape)    # 陣列的形狀 (各維度大小)   (這裡是 2X3 陣列，所以是 (2,3))\n",
        "print(arr.size)     # 陣列的元素總數 (這裡是 6)\n",
        "print(arr.dtype)    # 陣列中元素的資料型態 (這裡是 int64 或 int32，依系統而定)\n",
        "print(arr.itemsize) # 單一元素佔用的位元組數 (bytes)，例如 (int64 = 8 bytes, int32 = 4 bytes)\n",
        "print(arr.nbytes)   # 整個陣列佔用的記憶體大小"
      ]
    },
    {
      "cell_type": "markdown",
      "metadata": {
        "id": "MaSdDBSxf2tI"
      },
      "source": [
        "## ★建立其他陣列"
      ]
    },
    {
      "cell_type": "code",
      "execution_count": 2,
      "metadata": {
        "scrolled": true,
        "colab": {
          "base_uri": "https://localhost:8080/"
        },
        "id": "bUvZA6CHf2tI",
        "outputId": "47b4b01a-e907-462b-f9c8-9b1e82c3dfef"
      },
      "outputs": [
        {
          "output_type": "stream",
          "name": "stdout",
          "text": [
            "[[0. 0. 0.]\n",
            " [0. 0. 0.]]\n"
          ]
        }
      ],
      "source": [
        "import numpy as np\n",
        "#建立內容全是 0 的多維陣列\n",
        "arr1 = np.zeros((2,3))\n",
        "print(arr1)"
      ]
    },
    {
      "cell_type": "code",
      "execution_count": 3,
      "metadata": {
        "scrolled": true,
        "colab": {
          "base_uri": "https://localhost:8080/"
        },
        "id": "0Wn-NItNf2tI",
        "outputId": "231f7b1c-ebb3-4e08-8a6a-a4dd65b420bf"
      },
      "outputs": [
        {
          "output_type": "stream",
          "name": "stdout",
          "text": [
            "[[1. 1. 1.]\n",
            " [1. 1. 1.]]\n"
          ]
        }
      ],
      "source": [
        "#建立內容全是 1 的多維陣列\n",
        "arr2=np.ones((2,3))\n",
        "print(arr2)"
      ]
    },
    {
      "cell_type": "code",
      "execution_count": 4,
      "metadata": {
        "scrolled": true,
        "colab": {
          "base_uri": "https://localhost:8080/"
        },
        "id": "hA1jXH-If2tI",
        "outputId": "e5b2220f-d2e9-46a7-e7eb-4f75e13588cd"
      },
      "outputs": [
        {
          "output_type": "stream",
          "name": "stdout",
          "text": [
            "[[1. 1. 1.]\n",
            " [1. 1. 1.]]\n"
          ]
        }
      ],
      "source": [
        "#建立未初始化的陣列\n",
        "arr3=np.empty((2,3))\n",
        "print(arr3)"
      ]
    },
    {
      "cell_type": "code",
      "execution_count": 5,
      "metadata": {
        "scrolled": true,
        "colab": {
          "base_uri": "https://localhost:8080/"
        },
        "id": "f683ZeOcf2tI",
        "outputId": "a8a73d32-ed62-49a7-93ad-d3421694e1d4"
      },
      "outputs": [
        {
          "output_type": "stream",
          "name": "stdout",
          "text": [
            "[0.   0.25 0.5  0.75 1.  ]\n"
          ]
        }
      ],
      "source": [
        "#使用linspace(start, end, num) 建立等分區間的數列,\n",
        "#start:起始值; end:結束值; num:多少個等距點, 預設是0\n",
        "arr4=np.linspace(0,1,5)\n",
        "print(arr4)"
      ]
    },
    {
      "cell_type": "code",
      "execution_count": 6,
      "metadata": {
        "scrolled": true,
        "colab": {
          "base_uri": "https://localhost:8080/"
        },
        "id": "XIBikjNIf2tI",
        "outputId": "a886b7f1-bfa6-42f6-eee0-6612ee424124"
      },
      "outputs": [
        {
          "output_type": "stream",
          "name": "stdout",
          "text": [
            "[0 2 4 6 8]\n"
          ]
        }
      ],
      "source": [
        "#使用arange(start, stop, step)建立等差數列\n",
        "#start:起始值; stop: 結束值但產生數列不包含此值; step:陣列間距, 預設是1\n",
        "arr5=np.arange(0,10,2)\n",
        "print(arr5)"
      ]
    },
    {
      "cell_type": "code",
      "execution_count": 7,
      "metadata": {
        "scrolled": true,
        "colab": {
          "base_uri": "https://localhost:8080/"
        },
        "id": "K5j8DjY-f2tJ",
        "outputId": "34efd86c-096c-4b5e-810d-71159edb3fb2"
      },
      "outputs": [
        {
          "output_type": "stream",
          "name": "stdout",
          "text": [
            "[[1 0 0]\n",
            " [0 2 0]\n",
            " [0 0 3]]\n"
          ]
        }
      ],
      "source": [
        "#使用diag()建立建立對角矩陣，其他位置為 0\n",
        "arr6=np.diag([1,2,3])\n",
        "print(arr6)"
      ]
    },
    {
      "cell_type": "code",
      "execution_count": 8,
      "metadata": {
        "scrolled": true,
        "colab": {
          "base_uri": "https://localhost:8080/"
        },
        "id": "XiL86EvVf2tJ",
        "outputId": "a465de54-aa1a-4191-ae2b-284cd5531bfc"
      },
      "outputs": [
        {
          "output_type": "stream",
          "name": "stdout",
          "text": [
            "[[1. 0. 0.]\n",
            " [0. 1. 0.]\n",
            " [0. 0. 1.]]\n"
          ]
        }
      ],
      "source": [
        "#使用eye()建立nxn單位陣列 (Identity Matrix)\n",
        "arr7=np.eye(3)\n",
        "print(arr7)"
      ]
    },
    {
      "cell_type": "code",
      "execution_count": 9,
      "metadata": {
        "scrolled": true,
        "colab": {
          "base_uri": "https://localhost:8080/"
        },
        "id": "iLZrWkusf2tJ",
        "outputId": "9d4069b8-c43c-41ad-ddd3-d52167a2f2a6"
      },
      "outputs": [
        {
          "output_type": "stream",
          "name": "stdout",
          "text": [
            "[[1 2 1 2 1 2]\n",
            " [1 2 1 2 1 2]]\n"
          ]
        }
      ],
      "source": [
        "#使用tile()重複拼貼陣列\n",
        "arr8=np.tile([1,2], (2,3))\n",
        "print(arr8)"
      ]
    },
    {
      "cell_type": "markdown",
      "metadata": {
        "id": "TLaLUlNSf2tJ"
      },
      "source": [
        "## ★2.陣列四則運算與函數運算"
      ]
    },
    {
      "cell_type": "code",
      "execution_count": 10,
      "metadata": {
        "colab": {
          "base_uri": "https://localhost:8080/"
        },
        "id": "H1NWEJdGf2tJ",
        "outputId": "c599ff30-8b74-4f6f-8c4d-62a2d2dfd453"
      },
      "outputs": [
        {
          "output_type": "stream",
          "name": "stdout",
          "text": [
            "[5 7 9]\n",
            "[-3 -3 -3]\n",
            "[ 4 10 18]\n",
            "[0.25 0.4  0.5 ]\n",
            "向量內積： \n",
            " 32\n",
            "平均值： \n",
            " 2.0\n",
            "標準差： \n",
            " 0.816496580927726\n"
          ]
        }
      ],
      "source": [
        "import numpy as np\n",
        "A = np.array([1, 2, 3])\n",
        "B = np.array([4, 5, 6])\n",
        "\n",
        "# 陣列四則運算 (element-wise, 元素對應運算)\n",
        "print(A + B)   # [5 7 9]\n",
        "print(A - B)   # [-3 -3 -3]\n",
        "print(A * B)   # [ 4 10 18]\n",
        "print(A / B)   # [0.25 0.4  0.5]\n",
        "\n",
        "# 向量內積 (dot product)/矩陣乘法 np.dot 或 @\n",
        "print('向量內積： \\n', np.dot(A, B))  # 1*4 + 2*5+ 3*6 = 32\n",
        "\n",
        "# 陣列數學函數運算\n",
        "print('平均值： \\n',np.mean(A))  # 平均值 -> (1+2+3)/3 = 2.0\n",
        "print('標準差： \\n',np.std(A))   # 標準差 -> 約 0.816"
      ]
    },
    {
      "cell_type": "markdown",
      "metadata": {
        "id": "OHQVvUlBf2tJ"
      },
      "source": [
        "## ★3.線性代數"
      ]
    },
    {
      "cell_type": "code",
      "execution_count": 11,
      "metadata": {
        "colab": {
          "base_uri": "https://localhost:8080/"
        },
        "id": "Nwsd8JOpf2tJ",
        "outputId": "f9ab1571-efe9-42af-9f6c-7ec55be8f4f4"
      },
      "outputs": [
        {
          "output_type": "stream",
          "name": "stdout",
          "text": [
            "矩陣乘法：\n",
            " [[ 7 10]\n",
            " [15 22]]\n",
            "轉置矩陣：\n",
            " [[1 3]\n",
            " [2 4]]\n",
            "行列式：\n",
            " -2.0000000000000004\n",
            "反矩陣：\n",
            " [[-2.   1. ]\n",
            " [ 1.5 -0.5]]\n",
            "特徵值：\n",
            " [-0.37228132  5.37228132]\n",
            "特徵向量：\n",
            " [[-0.82456484 -0.41597356]\n",
            " [ 0.56576746 -0.90937671]]\n"
          ]
        }
      ],
      "source": [
        "import numpy as np\n",
        "m = np.array([[1, 2], [3, 4]])\n",
        "\n",
        "print('矩陣乘法：\\n', m @ m)\n",
        "print('轉置矩陣：\\n', m.T)\n",
        "print('行列式：\\n', np.linalg.det(m))\n",
        "print('反矩陣：\\n', np.linalg.inv(m))\n",
        "eigvals, eigvecs = np.linalg.eig(m)\n",
        "print('特徵值：\\n', eigvals)\n",
        "print('特徵向量：\\n', eigvecs)"
      ]
    },
    {
      "cell_type": "markdown",
      "metadata": {
        "id": "s2_qsZADf2tK"
      },
      "source": [
        "## ★4.隨機亂數產生"
      ]
    },
    {
      "cell_type": "code",
      "execution_count": 12,
      "metadata": {
        "colab": {
          "base_uri": "https://localhost:8080/"
        },
        "id": "DLHttwrAf2tK",
        "outputId": "a4bb0d07-5bfd-44dc-d6ca-a860ebc93a72"
      },
      "outputs": [
        {
          "output_type": "stream",
          "name": "stdout",
          "text": [
            "隨機矩陣 \n",
            " [[0.51943743 0.34943015 0.9961509 ]\n",
            " [0.17225977 0.11810199 0.14346361]\n",
            " [0.71380053 0.67192401 0.84102969]]\n",
            "標準常態分配樣本 \n",
            " [-1.3659341   0.59869497  1.06914969 -2.85185356 -1.05642244  0.76806155\n",
            " -0.15770732  0.20922143 -0.94107837  0.659409  ]\n",
            "均勻分配樣本 \n",
            " [ 0.2393214   0.09699481  0.389634   -0.44806482 -0.05384326 -0.98629977\n",
            "  0.28782688  0.35112368  0.54032219 -0.31542586]\n"
          ]
        }
      ],
      "source": [
        "r = np.random.rand(3, 3)   # 3x3 隨機矩陣\n",
        "n = np.random.normal(0, 1, 10)  # 平均0, 標準差1 的10個樣本\n",
        "u = np.random.uniform (-1, 1, 10)  # -1 至 1 均勻分配的10個樣本\n",
        "print('隨機矩陣 \\n', r)\n",
        "print('標準常態分配樣本 \\n',n)\n",
        "print('均勻分配樣本 \\n',u)"
      ]
    },
    {
      "cell_type": "markdown",
      "metadata": {
        "id": "MPTQGi8gf2tK"
      },
      "source": [
        "## ★5.陣列操作：索引、切片、廣播與重塑"
      ]
    },
    {
      "cell_type": "code",
      "execution_count": 13,
      "metadata": {
        "colab": {
          "base_uri": "https://localhost:8080/"
        },
        "id": "sU2DB2fRf2tK",
        "outputId": "e522539c-cddb-4c97-9389-b90b3f3b6d4b"
      },
      "outputs": [
        {
          "output_type": "stream",
          "name": "stdout",
          "text": [
            "x[0, 0]= 1\n",
            "x[1][2]= 6\n",
            "x[1,:2]= [4 5]\n",
            "x[:,1]= [2 5]\n",
            "x[1, 1:]= [5 6]\n",
            "x+10= \n",
            " [[11 12 13]\n",
            " [14 15 16]]\n"
          ]
        }
      ],
      "source": [
        "import numpy as np\n",
        "x1=[1,2,3]\n",
        "x2=[4,5,6]\n",
        "x=np.array([x1, x2])          # list 轉換成 2x3 NumPy 陣列\n",
        "\n",
        "# 索引 (indexing)，直接用「座標」取出特定元素，從 0 開始編號。\n",
        "print('x[0, 0]=', x[0, 0])    # 取第1列第1欄 → 1\n",
        "print('x[1][2]=', x[1][2])    # 取第2列第3欄 → 6\n",
        "\n",
        "# 切片 (slicing)\n",
        "print('x[1,:2]=', x[1,:2])    # 第1列前2個 → [1 2]\n",
        "print('x[:,1]=', x[:, 1])     # 所有列的第2欄 → [2 5]\n",
        "print('x[1, 1:]=',x[1, 1:])   # 第2列從第2欄到最後 → [5 6]\n",
        "\n",
        "# 廣播 (Broadcasting) 自動對齊運算：矩陣 + 向量、向量 + 常數。\n",
        "print('x+10= \\n', x + 10)                 # 每個元素都自動加上 10"
      ]
    },
    {
      "cell_type": "markdown",
      "metadata": {
        "id": "y6O7insbf2tK"
      },
      "source": [
        "## ★ 5.陣列操作：陣列結合插入刪除"
      ]
    },
    {
      "cell_type": "code",
      "execution_count": 14,
      "metadata": {
        "colab": {
          "base_uri": "https://localhost:8080/"
        },
        "id": "gDu-Mkw8f2tK",
        "outputId": "bcda38df-62d8-47b3-fd66-8837a11b6d16"
      },
      "outputs": [
        {
          "output_type": "stream",
          "name": "stdout",
          "text": [
            "[1 2 3 4 5]\n"
          ]
        }
      ],
      "source": [
        "#concatenate()陣列結合\n",
        "y1=np.array([1,2,3])\n",
        "y2=np.array([4,5])\n",
        "y3=np.concatenate((y1,y2)) #注意二個小括號\n",
        "print(y3)"
      ]
    },
    {
      "cell_type": "code",
      "execution_count": 15,
      "metadata": {
        "colab": {
          "base_uri": "https://localhost:8080/"
        },
        "id": "d_AZgOvOf2tK",
        "outputId": "68296725-ec51-4654-f1d0-ecd65354af81"
      },
      "outputs": [
        {
          "output_type": "stream",
          "name": "stdout",
          "text": [
            "[1 2 9 3]\n"
          ]
        }
      ],
      "source": [
        "#insert()在陣列索引插入元素\n",
        "x=np.array([1,2,3])\n",
        "z=np.insert(x, 2,9)\n",
        "print(z)"
      ]
    },
    {
      "cell_type": "code",
      "execution_count": 16,
      "metadata": {
        "colab": {
          "base_uri": "https://localhost:8080/"
        },
        "id": "04pqTghPf2tK",
        "outputId": "cb03dc1c-b210-4270-9a17-39f7360207e6"
      },
      "outputs": [
        {
          "output_type": "stream",
          "name": "stdout",
          "text": [
            "[1 3 4 5]\n"
          ]
        }
      ],
      "source": [
        "#delete()刪除指定索引在陣列元素\n",
        "x=np.array([1,2,3,4,5])\n",
        "z=np.delete(x, 1)\n",
        "print(z)"
      ]
    },
    {
      "cell_type": "markdown",
      "metadata": {
        "id": "lCggiTTlf2tK"
      },
      "source": [
        "## ★5.陣列操作：更改陣列外形"
      ]
    },
    {
      "cell_type": "code",
      "execution_count": 17,
      "metadata": {
        "colab": {
          "base_uri": "https://localhost:8080/"
        },
        "id": "6C6LBzSUf2tL",
        "outputId": "296660d1-c3af-4543-fd92-e5595b12c2ed"
      },
      "outputs": [
        {
          "output_type": "stream",
          "name": "stdout",
          "text": [
            "原陣列 x=[ 0  1  2  3  4  5  6  7  8  9 10 11 12 13 14]\n",
            "原陣列 y=\n",
            " [[ 0  1  2  3  4]\n",
            " [ 5  6  7  8  9]\n",
            " [10 11 12 13 14]]\n"
          ]
        }
      ],
      "source": [
        "#更改陣列外形\n",
        "import numpy as np\n",
        "x=np.arange(15)\n",
        "print(f'原陣列 x={x}')\n",
        "y=np.reshape(x,(3,5))\n",
        "print(f'原陣列 y=\\n {y}') #\\n代表跳行"
      ]
    },
    {
      "cell_type": "code",
      "execution_count": 18,
      "metadata": {
        "colab": {
          "base_uri": "https://localhost:8080/"
        },
        "id": "OZAGi1bqf2tL",
        "outputId": "6a9b3802-5006-42c4-f788-b7c36e452354"
      },
      "outputs": [
        {
          "output_type": "stream",
          "name": "stdout",
          "text": [
            "[ 0  1  2  3  4  5  6  7  8  9 10 11 12 13 14]\n"
          ]
        }
      ],
      "source": [
        "# 多維轉一維, 回傳檢視(VIEW)\n",
        "import numpy as np\n",
        "y1=[ 0,  1,  2,  3,  4]\n",
        "y2=[ 5,  6,  7,  8,  9]\n",
        "y3= [10, 11, 12, 13, 14]\n",
        "y=np.array([y1, y2, y3])\n",
        "z=y.ravel()\n",
        "print(z)"
      ]
    },
    {
      "cell_type": "code",
      "execution_count": 19,
      "metadata": {
        "colab": {
          "base_uri": "https://localhost:8080/"
        },
        "id": "-mZTXTvHf2tL",
        "outputId": "616a18db-59a7-4d7d-f370-af63215309e6"
      },
      "outputs": [
        {
          "output_type": "stream",
          "name": "stdout",
          "text": [
            "[ 0  1  2  3  4  5  6  7  8  9 10 11 12 13 14]\n"
          ]
        }
      ],
      "source": [
        "# 多維轉一維, 回傳拷貝(COPY)\n",
        "import numpy as np\n",
        "y1=[ 0,  1,  2,  3,  4]\n",
        "y2=[ 5,  6,  7,  8,  9]\n",
        "y3= [10, 11, 12, 13, 14]\n",
        "y=np.array([y1, y2, y3])\n",
        "z=y.flatten()\n",
        "print(z)"
      ]
    },
    {
      "cell_type": "markdown",
      "metadata": {
        "id": "gxwy4P32f2tL"
      },
      "source": [
        "## ★5.陣列操作：陣列分割與合併"
      ]
    },
    {
      "cell_type": "code",
      "execution_count": 20,
      "metadata": {
        "colab": {
          "base_uri": "https://localhost:8080/"
        },
        "id": "UckINgHwf2tL",
        "outputId": "8da1f724-f119-45ed-90b3-b409be4c3489"
      },
      "outputs": [
        {
          "output_type": "stream",
          "name": "stdout",
          "text": [
            "x= \n",
            " [[ 0  1  2  3]\n",
            " [ 4  5  6  7]\n",
            " [ 8  9 10 11]\n",
            " [12 13 14 15]]\n",
            "x1= \n",
            " [[ 0  1]\n",
            " [ 4  5]\n",
            " [ 8  9]\n",
            " [12 13]]\n",
            "x2= \n",
            " [[ 2  3]\n",
            " [ 6  7]\n",
            " [10 11]\n",
            " [14 15]]\n"
          ]
        }
      ],
      "source": [
        "#陣列水平分割\n",
        "import numpy as np\n",
        "x=np.arange(16).reshape(4,4)\n",
        "print(f'x= \\n {x}')    #\\n代表跳行\n",
        "\n",
        "x1,x2=np.hsplit(x,2)\n",
        "print(f'x1= \\n {x1}')  #\\n代表跳行\n",
        "print(f'x2= \\n {x2}')"
      ]
    },
    {
      "cell_type": "code",
      "execution_count": 21,
      "metadata": {
        "colab": {
          "base_uri": "https://localhost:8080/"
        },
        "id": "T-IDTMUgf2tL",
        "outputId": "3424937b-40f7-48c6-d2ed-badd4ecf538a"
      },
      "outputs": [
        {
          "output_type": "stream",
          "name": "stdout",
          "text": [
            "x= \n",
            " [[ 0  1  2  3]\n",
            " [ 4  5  6  7]\n",
            " [ 8  9 10 11]\n",
            " [12 13 14 15]]\n",
            "x1=\n",
            " [[0 1 2 3]\n",
            " [4 5 6 7]]\n",
            "x2= \n",
            " [[ 8  9 10 11]\n",
            " [12 13 14 15]]\n"
          ]
        }
      ],
      "source": [
        "#陣列垂直分割\n",
        "import numpy as np\n",
        "x=np.arange(16).reshape(4,4)\n",
        "print(f'x= \\n {x}')    #\\n代表跳行\n",
        "\n",
        "x1,x2=np.vsplit(x,2)\n",
        "print(f'x1=\\n {x1}')\n",
        "print(f'x2= \\n {x2}')"
      ]
    },
    {
      "cell_type": "code",
      "execution_count": 22,
      "metadata": {
        "colab": {
          "base_uri": "https://localhost:8080/"
        },
        "id": "JAs4ih3rf2tL",
        "outputId": "e0e8bce0-051b-4604-a886-c4e85df25394"
      },
      "outputs": [
        {
          "output_type": "stream",
          "name": "stdout",
          "text": [
            "x1= \n",
            " [[0 1]\n",
            " [2 3]]\n",
            "x2= \n",
            " [[4 5]\n",
            " [6 7]]\n",
            "合併陣列= \n",
            " [[0 1]\n",
            " [2 3]\n",
            " [4 5]\n",
            " [6 7]]\n"
          ]
        }
      ],
      "source": [
        "#陣列垂直合併\n",
        "x1=np.arange(4).reshape(2,2)\n",
        "x2=np.arange(4,8).reshape(2,2)\n",
        "x=np.vstack((x1,x2))\n",
        "print(f'x1= \\n {x1}')\n",
        "print(f'x2= \\n {x2}')\n",
        "print(f'合併陣列= \\n {x}')"
      ]
    },
    {
      "cell_type": "code",
      "execution_count": 23,
      "metadata": {
        "colab": {
          "base_uri": "https://localhost:8080/"
        },
        "id": "VaDVNfjef2tL",
        "outputId": "4c971ba1-bb32-47cf-a17e-1b3d1df070f2"
      },
      "outputs": [
        {
          "output_type": "stream",
          "name": "stdout",
          "text": [
            "x1= \n",
            " [[0 1]\n",
            " [2 3]]\n",
            "x2= \n",
            " [[4 5]\n",
            " [6 7]]\n",
            "合併陣列= \n",
            " [[0 1 4 5]\n",
            " [2 3 6 7]]\n"
          ]
        }
      ],
      "source": [
        "#陣列水平合併\n",
        "x1=np.arange(4).reshape(2,2)\n",
        "x2=np.arange(4,8).reshape(2,2)\n",
        "x=np.hstack((x1,x2))\n",
        "print(f'x1= \\n {x1}')\n",
        "print(f'x2= \\n {x2}')\n",
        "print(f'合併陣列= \\n {x}')"
      ]
    },
    {
      "cell_type": "code",
      "execution_count": 23,
      "metadata": {
        "id": "Aqy3g86gf2tL"
      },
      "outputs": [],
      "source": []
    }
  ],
  "metadata": {
    "kernelspec": {
      "display_name": "Python 3 (ipykernel)",
      "language": "python",
      "name": "python3"
    },
    "language_info": {
      "codemirror_mode": {
        "name": "ipython",
        "version": 3
      },
      "file_extension": ".py",
      "mimetype": "text/x-python",
      "name": "python",
      "nbconvert_exporter": "python",
      "pygments_lexer": "ipython3",
      "version": "3.11.7"
    },
    "colab": {
      "provenance": [],
      "include_colab_link": true
    }
  },
  "nbformat": 4,
  "nbformat_minor": 0
}