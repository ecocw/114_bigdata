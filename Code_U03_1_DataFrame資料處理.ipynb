{
  "cells": [
    {
      "cell_type": "markdown",
      "metadata": {
        "id": "view-in-github",
        "colab_type": "text"
      },
      "source": [
        "<a href=\"https://colab.research.google.com/github/ecocw/114_bigdata/blob/03.-%E5%A4%A7%E6%95%B8%E6%93%9A%E8%B3%87%E6%96%99%E8%99%95%E7%90%86/Code_U03_1_DataFrame%E8%B3%87%E6%96%99%E8%99%95%E7%90%86.ipynb\" target=\"_parent\"><img src=\"https://colab.research.google.com/assets/colab-badge.svg\" alt=\"Open In Colab\"/></a>"
      ]
    },
    {
      "cell_type": "markdown",
      "metadata": {
        "id": "i6RP6zhVJyUF"
      },
      "source": [
        "## 1. Python資料結構建立"
      ]
    },
    {
      "cell_type": "markdown",
      "metadata": {
        "id": "ZNTLrmfOJyUG"
      },
      "source": [
        "###   (1) Series 物件建立"
      ]
    },
    {
      "cell_type": "markdown",
      "metadata": {
        "id": "_DiA6aVuJyUG"
      },
      "source": [
        "#### A. 資料為list, 建立Series"
      ]
    },
    {
      "cell_type": "code",
      "execution_count": 1,
      "metadata": {
        "id": "1E6iHcjsJyUG",
        "outputId": "9a4a9c66-7bde-4cef-9381-69e8e2c4afb8",
        "colab": {
          "base_uri": "https://localhost:8080/"
        }
      },
      "outputs": [
        {
          "output_type": "stream",
          "name": "stdout",
          "text": [
            "0    F\n",
            "1    M\n",
            "2    F\n",
            "3    M\n",
            "dtype: object\n"
          ]
        }
      ],
      "source": [
        "import pandas as pd\n",
        "sex = pd.Series( ['F', 'M', 'F', 'M'])\n",
        "print(sex)"
      ]
    },
    {
      "cell_type": "code",
      "execution_count": 2,
      "metadata": {
        "id": "_x7cPsiEJyUH",
        "outputId": "fdc63e94-1fe8-42af-b3f3-af27758d2e17",
        "colab": {
          "base_uri": "https://localhost:8080/"
        }
      },
      "outputs": [
        {
          "output_type": "execute_result",
          "data": {
            "text/plain": [
              "RangeIndex(start=0, stop=4, step=1)"
            ]
          },
          "metadata": {},
          "execution_count": 2
        }
      ],
      "source": [
        "sex.index   #顯示索引index"
      ]
    },
    {
      "cell_type": "code",
      "execution_count": 3,
      "metadata": {
        "id": "ZZN9I1XGJyUH",
        "outputId": "241ae6b9-03d5-48ff-cd9e-0291ec563dfe",
        "colab": {
          "base_uri": "https://localhost:8080/"
        }
      },
      "outputs": [
        {
          "output_type": "execute_result",
          "data": {
            "text/plain": [
              "array(['F', 'M', 'F', 'M'], dtype=object)"
            ]
          },
          "metadata": {},
          "execution_count": 3
        }
      ],
      "source": [
        "sex.values   #顯示元素值 value"
      ]
    },
    {
      "cell_type": "markdown",
      "metadata": {
        "id": "KblQ7PwzJyUH"
      },
      "source": [
        "#### 增加新元素"
      ]
    },
    {
      "cell_type": "code",
      "execution_count": 4,
      "metadata": {
        "id": "5kiVGCiwJyUH",
        "outputId": "42fdee77-7be8-46c2-eeec-5685666e2ddf",
        "colab": {
          "base_uri": "https://localhost:8080/"
        }
      },
      "outputs": [
        {
          "output_type": "stream",
          "name": "stdout",
          "text": [
            "0    F\n",
            "1    M\n",
            "2    F\n",
            "3    M\n",
            "4    F\n",
            "dtype: object\n"
          ]
        }
      ],
      "source": [
        "sex[4]='F'\n",
        "print(sex)"
      ]
    },
    {
      "cell_type": "markdown",
      "source": [
        "#### B.創建帶有定義索引的Pandas序列"
      ],
      "metadata": {
        "id": "IZ26KjfMKiHZ"
      }
    },
    {
      "cell_type": "code",
      "source": [
        "#Create pandas series with define indexes\n",
        "import pandas as pd\n",
        "sex = pd.Series( ['F', 'M', 'F', 'M'],\n",
        "                index=['Amy', 'Bob', 'Cindy', 'David'])\n",
        "print(sex)"
      ],
      "metadata": {
        "id": "3TtRPdt2KVu7",
        "outputId": "45ad4b5b-14fe-4c5a-fd26-790a64b8b71e",
        "colab": {
          "base_uri": "https://localhost:8080/"
        }
      },
      "execution_count": 5,
      "outputs": [
        {
          "output_type": "stream",
          "name": "stdout",
          "text": [
            "Amy      F\n",
            "Bob      M\n",
            "Cindy    F\n",
            "David    M\n",
            "dtype: object\n"
          ]
        }
      ]
    },
    {
      "cell_type": "markdown",
      "metadata": {
        "id": "Q0NFpKFEJyUH"
      },
      "source": [
        "### (2) DataFrame物件建立\n",
        "\n",
        "#### 從字典對象導入數據，Key是鍵，Value是數據\n",
        "\n",
        "    語法: pd.DataFrame(dict, columns=[col1,col2.,,,])\n",
        "\n",
        "    "
      ]
    },
    {
      "cell_type": "code",
      "execution_count": 6,
      "metadata": {
        "id": "9BvT9Y2EJyUH",
        "outputId": "b375d97f-e9ed-4683-c82f-ce0b8f7ebd42",
        "colab": {
          "base_uri": "https://localhost:8080/"
        }
      },
      "outputs": [
        {
          "output_type": "stream",
          "name": "stdout",
          "text": [
            "    name  age  income  hours\n",
            "0    Amy   20     NaN     19\n",
            "1    Bob   22    10.0     22\n",
            "2  Cindy   27    15.0     20\n",
            "3  David   26    12.0     18\n",
            "4    Eva   25    20.0     20\n"
          ]
        }
      ],
      "source": [
        "import pandas as pd\n",
        "import numpy as np\n",
        "data = {'name': ['Amy', 'Bob', 'Cindy', 'David', 'Eva'],\n",
        "        'age': [20, 22, 27, 26, 25],\n",
        "        'income': [np.nan, 10, 15, 12, 20],\n",
        "        'hours':[19,22, 20, 18, 20]}\n",
        "df = pd.DataFrame(data)\n",
        "print(df)"
      ]
    },
    {
      "cell_type": "markdown",
      "metadata": {
        "id": "rABWXflhJyUI"
      },
      "source": [
        "#### 在dataframe增加婚姻欄位married"
      ]
    },
    {
      "cell_type": "code",
      "execution_count": 7,
      "metadata": {
        "id": "Ul7i-YroJyUI",
        "outputId": "8ee1bca3-9ac4-4bf3-ec2e-395965b6d3d0",
        "colab": {
          "base_uri": "https://localhost:8080/"
        }
      },
      "outputs": [
        {
          "output_type": "stream",
          "name": "stdout",
          "text": [
            "    name  age  income  hours married\n",
            "0    Amy   20     NaN     19       Y\n",
            "1    Bob   22    10.0     22       N\n",
            "2  Cindy   27    15.0     20       N\n",
            "3  David   26    12.0     18       Y\n",
            "4    Eva   25    20.0     20       N\n"
          ]
        }
      ],
      "source": [
        "mar = ['Y', 'N', 'N', 'Y', 'N']\n",
        "df['married'] = mar\n",
        "print(df)"
      ]
    },
    {
      "cell_type": "markdown",
      "source": [
        "## 2. Pandas 資料存取\n",
        "### (1) 匯入檔案"
      ],
      "metadata": {
        "id": "SyOO6Ig8MFro"
      }
    },
    {
      "cell_type": "code",
      "source": [
        "#方法一：直接上傳EXCEL檔案到COLAB\n",
        "# from google.colab import files\n",
        "# uploaded = files.upload()"
      ],
      "metadata": {
        "id": "2OblXdx_O0ll"
      },
      "execution_count": 8,
      "outputs": []
    },
    {
      "cell_type": "code",
      "execution_count": 9,
      "metadata": {
        "id": "poI6VeXnJyUI",
        "outputId": "a66bcdc0-755b-4007-e7c2-eddd8099ca70",
        "colab": {
          "base_uri": "https://localhost:8080/",
          "height": 351
        }
      },
      "outputs": [
        {
          "output_type": "error",
          "ename": "FileNotFoundError",
          "evalue": "[Errno 2] No such file or directory: 'tesg.xlsx'",
          "traceback": [
            "\u001b[0;31m---------------------------------------------------------------------------\u001b[0m",
            "\u001b[0;31mFileNotFoundError\u001b[0m                         Traceback (most recent call last)",
            "\u001b[0;32m/tmp/ipython-input-573544524.py\u001b[0m in \u001b[0;36m<cell line: 0>\u001b[0;34m()\u001b[0m\n\u001b[1;32m      2\u001b[0m \u001b[0mfile\u001b[0m\u001b[0;34m=\u001b[0m\u001b[0;34m'tesg.xlsx'\u001b[0m\u001b[0;34m\u001b[0m\u001b[0;34m\u001b[0m\u001b[0m\n\u001b[1;32m      3\u001b[0m \u001b[0;31m#匯入EXCEL檔案\u001b[0m\u001b[0;34m\u001b[0m\u001b[0;34m\u001b[0m\u001b[0m\n\u001b[0;32m----> 4\u001b[0;31m \u001b[0mdf\u001b[0m \u001b[0;34m=\u001b[0m \u001b[0mpd\u001b[0m\u001b[0;34m.\u001b[0m\u001b[0mread_excel\u001b[0m\u001b[0;34m(\u001b[0m\u001b[0mfile\u001b[0m\u001b[0;34m)\u001b[0m\u001b[0;34m\u001b[0m\u001b[0;34m\u001b[0m\u001b[0m\n\u001b[0m\u001b[1;32m      5\u001b[0m \u001b[0mdf\u001b[0m\u001b[0;34m.\u001b[0m\u001b[0mhead\u001b[0m\u001b[0;34m(\u001b[0m\u001b[0;34m)\u001b[0m \u001b[0;31m#顯示前5列\u001b[0m\u001b[0;34m\u001b[0m\u001b[0;34m\u001b[0m\u001b[0m\n",
            "\u001b[0;32m/usr/local/lib/python3.12/dist-packages/pandas/io/excel/_base.py\u001b[0m in \u001b[0;36mread_excel\u001b[0;34m(io, sheet_name, header, names, index_col, usecols, dtype, engine, converters, true_values, false_values, skiprows, nrows, na_values, keep_default_na, na_filter, verbose, parse_dates, date_parser, date_format, thousands, decimal, comment, skipfooter, storage_options, dtype_backend, engine_kwargs)\u001b[0m\n\u001b[1;32m    493\u001b[0m     \u001b[0;32mif\u001b[0m \u001b[0;32mnot\u001b[0m \u001b[0misinstance\u001b[0m\u001b[0;34m(\u001b[0m\u001b[0mio\u001b[0m\u001b[0;34m,\u001b[0m \u001b[0mExcelFile\u001b[0m\u001b[0;34m)\u001b[0m\u001b[0;34m:\u001b[0m\u001b[0;34m\u001b[0m\u001b[0;34m\u001b[0m\u001b[0m\n\u001b[1;32m    494\u001b[0m         \u001b[0mshould_close\u001b[0m \u001b[0;34m=\u001b[0m \u001b[0;32mTrue\u001b[0m\u001b[0;34m\u001b[0m\u001b[0;34m\u001b[0m\u001b[0m\n\u001b[0;32m--> 495\u001b[0;31m         io = ExcelFile(\n\u001b[0m\u001b[1;32m    496\u001b[0m             \u001b[0mio\u001b[0m\u001b[0;34m,\u001b[0m\u001b[0;34m\u001b[0m\u001b[0;34m\u001b[0m\u001b[0m\n\u001b[1;32m    497\u001b[0m             \u001b[0mstorage_options\u001b[0m\u001b[0;34m=\u001b[0m\u001b[0mstorage_options\u001b[0m\u001b[0;34m,\u001b[0m\u001b[0;34m\u001b[0m\u001b[0;34m\u001b[0m\u001b[0m\n",
            "\u001b[0;32m/usr/local/lib/python3.12/dist-packages/pandas/io/excel/_base.py\u001b[0m in \u001b[0;36m__init__\u001b[0;34m(self, path_or_buffer, engine, storage_options, engine_kwargs)\u001b[0m\n\u001b[1;32m   1548\u001b[0m                 \u001b[0mext\u001b[0m \u001b[0;34m=\u001b[0m \u001b[0;34m\"xls\"\u001b[0m\u001b[0;34m\u001b[0m\u001b[0;34m\u001b[0m\u001b[0m\n\u001b[1;32m   1549\u001b[0m             \u001b[0;32melse\u001b[0m\u001b[0;34m:\u001b[0m\u001b[0;34m\u001b[0m\u001b[0;34m\u001b[0m\u001b[0m\n\u001b[0;32m-> 1550\u001b[0;31m                 ext = inspect_excel_format(\n\u001b[0m\u001b[1;32m   1551\u001b[0m                     \u001b[0mcontent_or_path\u001b[0m\u001b[0;34m=\u001b[0m\u001b[0mpath_or_buffer\u001b[0m\u001b[0;34m,\u001b[0m \u001b[0mstorage_options\u001b[0m\u001b[0;34m=\u001b[0m\u001b[0mstorage_options\u001b[0m\u001b[0;34m\u001b[0m\u001b[0;34m\u001b[0m\u001b[0m\n\u001b[1;32m   1552\u001b[0m                 )\n",
            "\u001b[0;32m/usr/local/lib/python3.12/dist-packages/pandas/io/excel/_base.py\u001b[0m in \u001b[0;36minspect_excel_format\u001b[0;34m(content_or_path, storage_options)\u001b[0m\n\u001b[1;32m   1400\u001b[0m         \u001b[0mcontent_or_path\u001b[0m \u001b[0;34m=\u001b[0m \u001b[0mBytesIO\u001b[0m\u001b[0;34m(\u001b[0m\u001b[0mcontent_or_path\u001b[0m\u001b[0;34m)\u001b[0m\u001b[0;34m\u001b[0m\u001b[0;34m\u001b[0m\u001b[0m\n\u001b[1;32m   1401\u001b[0m \u001b[0;34m\u001b[0m\u001b[0m\n\u001b[0;32m-> 1402\u001b[0;31m     with get_handle(\n\u001b[0m\u001b[1;32m   1403\u001b[0m         \u001b[0mcontent_or_path\u001b[0m\u001b[0;34m,\u001b[0m \u001b[0;34m\"rb\"\u001b[0m\u001b[0;34m,\u001b[0m \u001b[0mstorage_options\u001b[0m\u001b[0;34m=\u001b[0m\u001b[0mstorage_options\u001b[0m\u001b[0;34m,\u001b[0m \u001b[0mis_text\u001b[0m\u001b[0;34m=\u001b[0m\u001b[0;32mFalse\u001b[0m\u001b[0;34m\u001b[0m\u001b[0;34m\u001b[0m\u001b[0m\n\u001b[1;32m   1404\u001b[0m     ) as handle:\n",
            "\u001b[0;32m/usr/local/lib/python3.12/dist-packages/pandas/io/common.py\u001b[0m in \u001b[0;36mget_handle\u001b[0;34m(path_or_buf, mode, encoding, compression, memory_map, is_text, errors, storage_options)\u001b[0m\n\u001b[1;32m    880\u001b[0m         \u001b[0;32melse\u001b[0m\u001b[0;34m:\u001b[0m\u001b[0;34m\u001b[0m\u001b[0;34m\u001b[0m\u001b[0m\n\u001b[1;32m    881\u001b[0m             \u001b[0;31m# Binary mode\u001b[0m\u001b[0;34m\u001b[0m\u001b[0;34m\u001b[0m\u001b[0m\n\u001b[0;32m--> 882\u001b[0;31m             \u001b[0mhandle\u001b[0m \u001b[0;34m=\u001b[0m \u001b[0mopen\u001b[0m\u001b[0;34m(\u001b[0m\u001b[0mhandle\u001b[0m\u001b[0;34m,\u001b[0m \u001b[0mioargs\u001b[0m\u001b[0;34m.\u001b[0m\u001b[0mmode\u001b[0m\u001b[0;34m)\u001b[0m\u001b[0;34m\u001b[0m\u001b[0;34m\u001b[0m\u001b[0m\n\u001b[0m\u001b[1;32m    883\u001b[0m         \u001b[0mhandles\u001b[0m\u001b[0;34m.\u001b[0m\u001b[0mappend\u001b[0m\u001b[0;34m(\u001b[0m\u001b[0mhandle\u001b[0m\u001b[0;34m)\u001b[0m\u001b[0;34m\u001b[0m\u001b[0;34m\u001b[0m\u001b[0m\n\u001b[1;32m    884\u001b[0m \u001b[0;34m\u001b[0m\u001b[0m\n",
            "\u001b[0;31mFileNotFoundError\u001b[0m: [Errno 2] No such file or directory: 'tesg.xlsx'"
          ]
        }
      ],
      "source": [
        "import pandas as pd\n",
        "file='tesg.xlsx'\n",
        "#匯入EXCEL檔案\n",
        "df = pd.read_excel(file)\n",
        "df.head() #顯示前5列"
      ]
    },
    {
      "cell_type": "code",
      "source": [
        "#方法二：從Google Drive匯入\n",
        "\n",
        "# from google.colab import drive\n",
        "# drive.mount('/content/drive')"
      ],
      "metadata": {
        "id": "6p9aMhEuRaE4"
      },
      "execution_count": null,
      "outputs": []
    },
    {
      "cell_type": "code",
      "source": [
        "# 找到檔案路徑 如\"/content/drive/MyDrive/data.xlsx\"\n",
        "# import pandas as pd\n",
        "\n",
        "# file_path = \"/content/drive/MyDrive/data.xlsx\"\n",
        "# df = pd.read_excel(file_path)\n",
        "\n",
        "# df.head()"
      ],
      "metadata": {
        "id": "46W0gYqJR6JE"
      },
      "execution_count": null,
      "outputs": []
    },
    {
      "cell_type": "markdown",
      "source": [
        "### (2) 資料匯出"
      ],
      "metadata": {
        "id": "bBxeY4sSX0eR"
      }
    },
    {
      "cell_type": "code",
      "source": [
        "df.to_csv('tesg.csv',encoding='utf-8-sig',index=False)\n",
        "# df.to_excel('tesg.xlsx')\n",
        "# df.to_json('tesg.json')"
      ],
      "metadata": {
        "id": "-pzojav_nGDJ"
      },
      "execution_count": null,
      "outputs": []
    },
    {
      "cell_type": "markdown",
      "source": [
        "## 3.DataFrame資料檢視與選取\n",
        "### (1) 資料檢視"
      ],
      "metadata": {
        "id": "gzykIwapYhmO"
      }
    },
    {
      "cell_type": "code",
      "source": [
        "#檢視後三列\n",
        "df.tail(3)"
      ],
      "metadata": {
        "id": "zUCQxSjAoCka"
      },
      "execution_count": null,
      "outputs": []
    },
    {
      "cell_type": "code",
      "source": [
        "#檢視欄位名稱\n",
        "df.columns"
      ],
      "metadata": {
        "id": "MSLVU4pMZiiP"
      },
      "execution_count": null,
      "outputs": []
    },
    {
      "cell_type": "code",
      "source": [
        "#檢視DataFrame行數和列數\n",
        "df.shape"
      ],
      "metadata": {
        "id": "0X_sByydZtlm"
      },
      "execution_count": null,
      "outputs": []
    },
    {
      "cell_type": "code",
      "source": [
        "#檢視敍述統計\n",
        "df.describe()"
      ],
      "metadata": {
        "id": "-pVuiLgdZ6pY"
      },
      "execution_count": null,
      "outputs": []
    },
    {
      "cell_type": "code",
      "source": [
        "#檢視DataFrame索引\n",
        "df.index"
      ],
      "metadata": {
        "id": "SElQf6oQaBZe"
      },
      "execution_count": null,
      "outputs": []
    },
    {
      "cell_type": "code",
      "source": [
        "#檢視DataFrame索引、資料類型和內存信息\n",
        "df.info()"
      ],
      "metadata": {
        "id": "3OByX1B2aQNc"
      },
      "execution_count": null,
      "outputs": []
    },
    {
      "cell_type": "markdown",
      "source": [
        "### (2) 資料選取"
      ],
      "metadata": {
        "id": "oC32RTWxa_bH"
      }
    },
    {
      "cell_type": "code",
      "source": [
        "# 提取特定column\n",
        "SASB=df['SASB主產業'].unique()\n",
        "print(SASB)"
      ],
      "metadata": {
        "id": "m094buTGbCVc"
      },
      "execution_count": null,
      "outputs": []
    },
    {
      "cell_type": "code",
      "source": [
        "# 同時提取多個volumn\n",
        "TESG_rating=df[['代號','TESG等級','TESG分數']]\n",
        "print(TESG_rating.head())"
      ],
      "metadata": {
        "id": "i9DIgZGIefqS"
      },
      "execution_count": null,
      "outputs": []
    },
    {
      "cell_type": "code",
      "source": [
        "#提取第4個columns\n",
        "df.iloc[:,3]"
      ],
      "metadata": {
        "id": "BEg_7CoQeKx1"
      },
      "execution_count": null,
      "outputs": []
    },
    {
      "cell_type": "code",
      "source": [
        "#提取第3列\n",
        "df.iloc[2]"
      ],
      "metadata": {
        "id": "lpW7v4GzdycA"
      },
      "execution_count": null,
      "outputs": []
    },
    {
      "cell_type": "markdown",
      "source": [
        "## 4. 資料處理: Filter, Sort, Groupby\n",
        "### (3) 資料過濾(Filter)"
      ],
      "metadata": {
        "id": "Xmmll0wTtvaQ"
      }
    },
    {
      "cell_type": "code",
      "source": [
        "#過濾\n",
        "filter=df[df['TESG分數']>=70]\n",
        "display(filter.head(3))"
      ],
      "metadata": {
        "id": "jdBRDmjpxLaB"
      },
      "execution_count": null,
      "outputs": []
    },
    {
      "cell_type": "code",
      "source": [
        "#過濾：金融業且TESG等級為A+\n",
        "filtered_df=df[(df['SASB主產業'] =='金融') & (\n",
        "    df['TESG等級'] =='A+')]\n",
        "display(filtered_df.head(3))"
      ],
      "metadata": {
        "id": "PWU05RPHeFcF"
      },
      "execution_count": null,
      "outputs": []
    },
    {
      "cell_type": "markdown",
      "source": [
        "### (4) 資料排序(Sort)"
      ],
      "metadata": {
        "id": "Ktww2pCAyOUE"
      }
    },
    {
      "cell_type": "code",
      "source": [
        "#排序 #ascending=1 升序 ascending=0 降序\n",
        "# filtered_df.sort_values('環境構面分數',ascending=1)\n",
        "\n",
        "filtered_df.sort_values('環境構面分數',ascending=0)"
      ],
      "metadata": {
        "id": "9k2GY0q4lIXW"
      },
      "execution_count": null,
      "outputs": []
    },
    {
      "cell_type": "code",
      "source": [
        "TESG_L=df.groupby('TESG等級')    #分組\n",
        "display(TESG_L.size())     #看每個組別內的大小"
      ],
      "metadata": {
        "id": "qshLXS66zV3M"
      },
      "execution_count": null,
      "outputs": []
    },
    {
      "cell_type": "code",
      "source": [
        "# TESG_L.get_group(\"A+\")  #括弧內放入要取出的類別"
      ],
      "metadata": {
        "id": "uOWNtFAQ0LVi"
      },
      "execution_count": null,
      "outputs": []
    },
    {
      "cell_type": "code",
      "source": [
        "#計算每一TESG等級類別的平均TESG分數\n",
        "avg_score = df.groupby('TESG等級',      #把 df 依照 TESG等級 這一欄的不同值進行分組\n",
        "                       as_index=False,  #讓分組欄位（TESG等級）不要當成 索引\n",
        "                       observed=True    #只顯示實際有資料的等級\n",
        "                       )['TESG分數'].mean() #計算每個 TESG等級類別TESG分數的平均值\n",
        "display(avg_score)"
      ],
      "metadata": {
        "id": "BEf6DlfB0hV9"
      },
      "execution_count": null,
      "outputs": []
    },
    {
      "cell_type": "code",
      "source": [
        "from pandas.api.types import CategoricalDtype\n",
        "\n",
        "# 界定TESG等级順序\n",
        "tesg_order = ['A+', 'A', 'B+', 'B', 'B-', 'C', 'C-']\n",
        "\n",
        "# 將 'TESG等級' 欄位轉成特定順序\n",
        "avg_score['TESG等級'] = avg_score['TESG等級'].astype(\n",
        "    CategoricalDtype(categories=tesg_order, ordered=True))\n",
        "\n",
        "# 依 TESG等級 順序顯示\n",
        "avg_score = avg_score.sort_values('TESG等級')\n",
        "\n",
        "display(avg_score)"
      ],
      "metadata": {
        "id": "jjlBXVhcFDCC"
      },
      "execution_count": null,
      "outputs": []
    },
    {
      "cell_type": "code",
      "source": [
        "#建立樞紐分析表\n",
        "table = pd.pivot_table(df, values='TESG分數', index=['SASB主產業', 'SASB子產業'],\n",
        "                       columns=['採用永續報告書是否驗證'], aggfunc=\"mean\")\n",
        "display(table)"
      ],
      "metadata": {
        "id": "pqheMYVg1JEC"
      },
      "execution_count": null,
      "outputs": []
    }
  ],
  "metadata": {
    "kernelspec": {
      "display_name": "Python 3 (ipykernel)",
      "language": "python",
      "name": "python3"
    },
    "language_info": {
      "codemirror_mode": {
        "name": "ipython",
        "version": 3
      },
      "file_extension": ".py",
      "mimetype": "text/x-python",
      "name": "python",
      "nbconvert_exporter": "python",
      "pygments_lexer": "ipython3",
      "version": "3.11.7"
    },
    "colab": {
      "provenance": [],
      "include_colab_link": true
    }
  },
  "nbformat": 4,
  "nbformat_minor": 0
}