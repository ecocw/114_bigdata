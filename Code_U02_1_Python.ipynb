{
  "cells": [
    {
      "cell_type": "markdown",
      "metadata": {
        "id": "view-in-github",
        "colab_type": "text"
      },
      "source": [
        "<a href=\"https://colab.research.google.com/github/ecocw/114_bigdata/blob/U02.%E5%A4%A7%E6%95%B8%E6%93%9A%E8%B3%87%E6%96%99%E5%BB%BA%E7%BD%AE/Code_U02_1_Python.ipynb\" target=\"_parent\"><img src=\"https://colab.research.google.com/assets/colab-badge.svg\" alt=\"Open In Colab\"/></a>"
      ]
    },
    {
      "cell_type": "markdown",
      "metadata": {
        "id": "mVNvJKOEABT0"
      },
      "source": [
        "# 單元2.1:大數據資料建置\n",
        "# 1. Python資料型態"
      ]
    },
    {
      "cell_type": "raw",
      "metadata": {
        "id": "2UHdmfduABT2"
      },
      "source": [
        "數字 Number\n",
        "\tint (有符號整數)、long (長整數)、float (浮點數)、complex (複數)\n",
        "字串 String\n",
        "\t字串是字元的陣列。字符串要使用引號；可以使用 []和[：] 抽取字元，索引從0開始；加號+連接字符；星號*重複字元。\n",
        "布林值 Boolin Value\n",
        "    僅有2個值:True/False\n",
        "列表 List\n",
        "\t複合數據類型。列表中包含以逗號分隔，並在方括號 []包含項目。\n",
        "元組 Tuple\n",
        "\t元組類似於列表中的序列數據類型。一個元組由數個逗號分隔的值。\n",
        "    元組可以在小括號() 內新增元素，元素不能被攺變。\n",
        "字典 Dictionary\n",
        "\t哈希表（Hash table）型。由鍵(key) - 值(value)對組成。字典鍵通常是數字或字符串。值可以是任意。\n",
        "\t字典是由大括號{}，可分配值，並用方括號 []訪問。\n",
        "集合 set\n",
        "    由大括號{}表示,可使用 in 和 not in 判斷元素是否存在於集合中"
      ]
    },
    {
      "cell_type": "markdown",
      "metadata": {
        "id": "T0-mpJCZABT3"
      },
      "source": [
        "## ★type 指令：查詢資料類型"
      ]
    },
    {
      "cell_type": "code",
      "execution_count": 1,
      "metadata": {
        "colab": {
          "base_uri": "https://localhost:8080/"
        },
        "id": "m59M-407ABT3",
        "outputId": "efc2b040-bb24-49e3-9aa0-67b4d92f5405"
      },
      "outputs": [
        {
          "output_type": "execute_result",
          "data": {
            "text/plain": [
              "int"
            ]
          },
          "metadata": {},
          "execution_count": 1
        }
      ],
      "source": [
        "num= 0      #整數\n",
        "type(num)"
      ]
    },
    {
      "cell_type": "code",
      "execution_count": 2,
      "metadata": {
        "colab": {
          "base_uri": "https://localhost:8080/"
        },
        "id": "BwXUiIx1ABT4",
        "outputId": "720b0032-469f-4c96-f6e2-25f71c131938"
      },
      "outputs": [
        {
          "output_type": "execute_result",
          "data": {
            "text/plain": [
              "float"
            ]
          },
          "metadata": {},
          "execution_count": 2
        }
      ],
      "source": [
        "num= 0.0    #浮點數\n",
        "type(num)"
      ]
    },
    {
      "cell_type": "code",
      "execution_count": 3,
      "metadata": {
        "colab": {
          "base_uri": "https://localhost:8080/"
        },
        "id": "L4FEB8DfABT4",
        "outputId": "9370013f-a1a5-40fa-dd3a-9448ead7e4c4"
      },
      "outputs": [
        {
          "output_type": "execute_result",
          "data": {
            "text/plain": [
              "complex"
            ]
          },
          "metadata": {},
          "execution_count": 3
        }
      ],
      "source": [
        "num= 2+3.14j   #複數\n",
        "type(num)"
      ]
    },
    {
      "cell_type": "code",
      "execution_count": 4,
      "metadata": {
        "colab": {
          "base_uri": "https://localhost:8080/"
        },
        "id": "nlnnedGAABT4",
        "outputId": "69438e5c-ebfa-45ad-b26c-1f7db2c442b8"
      },
      "outputs": [
        {
          "output_type": "execute_result",
          "data": {
            "text/plain": [
              "str"
            ]
          },
          "metadata": {},
          "execution_count": 4
        }
      ],
      "source": [
        "s='BigData'   #字串\n",
        "type(s)"
      ]
    },
    {
      "cell_type": "code",
      "execution_count": 5,
      "metadata": {
        "colab": {
          "base_uri": "https://localhost:8080/"
        },
        "id": "ugDxu-U7ABT5",
        "outputId": "b454d527-7d7c-4e46-c611-769a4267a344"
      },
      "outputs": [
        {
          "output_type": "execute_result",
          "data": {
            "text/plain": [
              "bool"
            ]
          },
          "metadata": {},
          "execution_count": 5
        }
      ],
      "source": [
        "flag1 = True      #bool型態 T為大寫\n",
        "type(flag1)"
      ]
    },
    {
      "cell_type": "code",
      "execution_count": 6,
      "metadata": {
        "colab": {
          "base_uri": "https://localhost:8080/"
        },
        "id": "ZvivPiRxABT5",
        "outputId": "23a3d778-0705-4de3-ff04-cdea11aa33d4"
      },
      "outputs": [
        {
          "output_type": "execute_result",
          "data": {
            "text/plain": [
              "list"
            ]
          },
          "metadata": {},
          "execution_count": 6
        }
      ],
      "source": [
        "A = ['yes', 1, 'no', 2 ]  #列表\n",
        "type(A)"
      ]
    },
    {
      "cell_type": "code",
      "execution_count": 7,
      "metadata": {
        "colab": {
          "base_uri": "https://localhost:8080/"
        },
        "id": "5g1QKaujABT5",
        "outputId": "0a0db135-dd46-4c45-a65d-e437f7da3d64"
      },
      "outputs": [
        {
          "output_type": "execute_result",
          "data": {
            "text/plain": [
              "tuple"
            ]
          },
          "metadata": {},
          "execution_count": 7
        }
      ],
      "source": [
        "B = ('abcd', 786 , 2.23, 'john', 70.2)  #元組\n",
        "type(B)"
      ]
    },
    {
      "cell_type": "code",
      "execution_count": 8,
      "metadata": {
        "colab": {
          "base_uri": "https://localhost:8080/"
        },
        "id": "QWCJnj_YABT5",
        "outputId": "aa2d9bf0-433c-4c92-939c-49fb6ff87679"
      },
      "outputs": [
        {
          "output_type": "execute_result",
          "data": {
            "text/plain": [
              "dict"
            ]
          },
          "metadata": {},
          "execution_count": 8
        }
      ],
      "source": [
        "C = {'name': 'john','code':123, 'dept': 'sales'}  #字典\n",
        "type(C)"
      ]
    },
    {
      "cell_type": "markdown",
      "metadata": {
        "id": "GrHWVTzoABT6"
      },
      "source": [
        "## ★BOOL布林值"
      ]
    },
    {
      "cell_type": "code",
      "execution_count": 9,
      "metadata": {
        "colab": {
          "base_uri": "https://localhost:8080/"
        },
        "id": "jOqGnvTBABT6",
        "outputId": "5be6a7f9-0b75-41c5-a2f2-afaac94ffda5"
      },
      "outputs": [
        {
          "output_type": "stream",
          "name": "stdout",
          "text": [
            "<class 'str'>\n",
            "<class 'bool'>\n"
          ]
        }
      ],
      "source": [
        "a=\"True\"\n",
        "b=True\n",
        "print(type(a))\n",
        "print(type(b))"
      ]
    },
    {
      "cell_type": "code",
      "execution_count": 10,
      "metadata": {
        "colab": {
          "base_uri": "https://localhost:8080/"
        },
        "id": "pB2t9_WOABT6",
        "outputId": "489b43a5-bd46-488c-d104-5353f3f9e13a"
      },
      "outputs": [
        {
          "output_type": "stream",
          "name": "stdout",
          "text": [
            "True\n",
            "False\n"
          ]
        }
      ],
      "source": [
        "print(5==5)      # True\n",
        "print(5==2+4)    # False"
      ]
    },
    {
      "cell_type": "markdown",
      "metadata": {
        "id": "HiFbBzSaABT6"
      },
      "source": [
        "## ★字串"
      ]
    },
    {
      "cell_type": "code",
      "execution_count": 11,
      "metadata": {
        "colab": {
          "base_uri": "https://localhost:8080/"
        },
        "id": "XAScFu4AABT6",
        "outputId": "2b37fcca-63b5-45c4-9bd9-da75fd9aebcd"
      },
      "outputs": [
        {
          "output_type": "stream",
          "name": "stdout",
          "text": [
            "Hello! \n",
            "Everybody\n",
            "Hello! Everybody\n",
            "Hello! Hello! Hello! \n"
          ]
        }
      ],
      "source": [
        "''\n",
        "print('Hello! ')\n",
        "print('Everybody')\n",
        "print('Hello! '+'Everybody')\n",
        "print('Hello! '*3)"
      ]
    },
    {
      "cell_type": "markdown",
      "metadata": {
        "id": "ija5hv2tABT7"
      },
      "source": [
        "## ★字串索引 String index\n",
        "字串的索引，從0開始計數"
      ]
    },
    {
      "cell_type": "code",
      "execution_count": 12,
      "metadata": {
        "colab": {
          "base_uri": "https://localhost:8080/"
        },
        "id": "cXpua5PeABT7",
        "outputId": "830a7a5d-e616-4219-c709-1536922239e0"
      },
      "outputs": [
        {
          "output_type": "stream",
          "name": "stdout",
          "text": [
            "BigData\n",
            "B\n",
            "gD\n",
            "gData\n"
          ]
        }
      ],
      "source": [
        "x = 'BigData'\n",
        "print(x)            #列印完整字串\n",
        "print(x[0])         #列印字串第1個字元\n",
        "print(x[2:4])       #列印第 3個至第 4個字元\n",
        "print(x[2:])        #從第3個列印至最後字元"
      ]
    },
    {
      "cell_type": "markdown",
      "metadata": {
        "id": "53qANuqnABT7"
      },
      "source": [
        "## ★資料型態轉換\n",
        "    int() 轉換為整數資料型態\n",
        "    float() 轉換為浮點數資料型態\n",
        "    str() 轉換為字串資料型態"
      ]
    },
    {
      "cell_type": "code",
      "execution_count": 13,
      "metadata": {
        "colab": {
          "base_uri": "https://localhost:8080/"
        },
        "id": "IbeW0VLrABT7",
        "outputId": "87ac034a-42b7-4995-cbc6-ccbbfdd66318"
      },
      "outputs": [
        {
          "output_type": "stream",
          "name": "stdout",
          "text": [
            "5 <class 'str'>\n",
            "5 <class 'int'>\n",
            "5.0 <class 'float'>\n"
          ]
        }
      ],
      "source": [
        "a='5'\n",
        "print(a, type(a))\n",
        "\n",
        "b=int(a)\n",
        "print(b, type(b))\n",
        "\n",
        "c=float(a)\n",
        "print(c, type(c))"
      ]
    },
    {
      "cell_type": "code",
      "execution_count": 14,
      "metadata": {
        "colab": {
          "base_uri": "https://localhost:8080/"
        },
        "id": "RoouCHk_ABT7",
        "outputId": "da31e988-bd75-4750-cce0-e4f538144a05"
      },
      "outputs": [
        {
          "output_type": "stream",
          "name": "stdout",
          "text": [
            "10.0 <class 'float'>\n",
            "10 <class 'int'>\n",
            "10.0 <class 'str'>\n"
          ]
        }
      ],
      "source": [
        "a=10.0\n",
        "print(a,type(a))\n",
        "\n",
        "b=int(a)\n",
        "print(b, type(b))\n",
        "\n",
        "c=str(a)\n",
        "print(c, type(c))"
      ]
    },
    {
      "cell_type": "code",
      "execution_count": 15,
      "metadata": {
        "colab": {
          "base_uri": "https://localhost:8080/"
        },
        "id": "0IbpZrEUABT7",
        "outputId": "70a515ac-aa37-4315-bb7c-b37b4769adde"
      },
      "outputs": [
        {
          "output_type": "stream",
          "name": "stdout",
          "text": [
            "True <class 'bool'>\n",
            "1 <class 'int'>\n",
            "1.0 <class 'float'>\n"
          ]
        }
      ],
      "source": [
        "a=True\n",
        "print(a, type(a))\n",
        "\n",
        "b=int(a)\n",
        "print(b, type(b))\n",
        "\n",
        "c=float(a)\n",
        "print(c, type(c))"
      ]
    },
    {
      "cell_type": "markdown",
      "metadata": {
        "id": "4Shs5SquABT7"
      },
      "source": [
        "## ★列表 List 範例\n",
        "list用中括號，列表中的元素，下標從0開始計數"
      ]
    },
    {
      "cell_type": "code",
      "execution_count": 16,
      "metadata": {
        "colab": {
          "base_uri": "https://localhost:8080/"
        },
        "id": "klv1MtVBABT8",
        "outputId": "75d58ead-4229-44ab-d065-0d0c19066a8a"
      },
      "outputs": [
        {
          "output_type": "stream",
          "name": "stdout",
          "text": [
            "['yes', 1, 'no', 2]\n",
            "yes\n",
            "[1, 'no']\n",
            "['no', 2]\n",
            "['na', 3, 'na', 3]\n",
            "['yes', 1, 'no', 2, 'na', 3]\n"
          ]
        }
      ],
      "source": [
        "list = ['yes', 1, 'no', 2 ]   #list用中括號\n",
        "list2 = ['na', 3]\n",
        "print(list)                   #列印完整列表\n",
        "print(list[0])                #列印列表第1個元素\n",
        "print(list[1:3])              #列印第 3個至第 4個字元\n",
        "print(list[2:])               #從第3個列印至最後字元\n",
        "print(list2 * 2)              #列印 list2 2遍\n",
        "print(list + list2)           #將list1及list2連結"
      ]
    },
    {
      "cell_type": "markdown",
      "metadata": {
        "id": "OvdHs0kTABT8"
      },
      "source": [
        "## ★修改 List 內容"
      ]
    },
    {
      "cell_type": "code",
      "execution_count": 17,
      "metadata": {
        "colab": {
          "base_uri": "https://localhost:8080/"
        },
        "id": "VcbBusVnABT8",
        "outputId": "6d9eef47-4f8a-4601-a8f2-6f56726d1001"
      },
      "outputs": [
        {
          "output_type": "stream",
          "name": "stdout",
          "text": [
            "[60, 70, 80]\n"
          ]
        }
      ],
      "source": [
        "A=[60,70,80]\n",
        "print(A)"
      ]
    },
    {
      "cell_type": "code",
      "execution_count": 18,
      "metadata": {
        "colab": {
          "base_uri": "https://localhost:8080/"
        },
        "id": "jclSgZl9ABT8",
        "outputId": "3234a05a-6871-4685-da00-d1cf3222e47d"
      },
      "outputs": [
        {
          "output_type": "stream",
          "name": "stdout",
          "text": [
            "[60, 70, 80, 100]\n"
          ]
        }
      ],
      "source": [
        "# 加入元素至尾端\n",
        "A.append(100)\n",
        "print(A)"
      ]
    },
    {
      "cell_type": "code",
      "execution_count": 19,
      "metadata": {
        "colab": {
          "base_uri": "https://localhost:8080/"
        },
        "id": "Yzi4mD4gABT8",
        "outputId": "2f022916-6f48-4661-9bf5-331293d8964b"
      },
      "outputs": [
        {
          "output_type": "stream",
          "name": "stdout",
          "text": [
            "[60, 70, 80, 100, 'PASS']\n"
          ]
        }
      ],
      "source": [
        "#加入另一個list\n",
        "A.extend(['PASS'])\n",
        "print(A)"
      ]
    },
    {
      "cell_type": "code",
      "execution_count": 20,
      "metadata": {
        "colab": {
          "base_uri": "https://localhost:8080/"
        },
        "id": "b42W7TWkABT8",
        "outputId": "c483c5be-836b-4151-f721-50b5f3c8700c"
      },
      "outputs": [
        {
          "output_type": "stream",
          "name": "stdout",
          "text": [
            "[60, 70, 70, 80, 100, 'PASS']\n"
          ]
        }
      ],
      "source": [
        "#在指定位置加入元素\n",
        "A.insert(1,70)\n",
        "print(A)"
      ]
    },
    {
      "cell_type": "code",
      "execution_count": 21,
      "metadata": {
        "colab": {
          "base_uri": "https://localhost:8080/"
        },
        "id": "wvYszOBLABT9",
        "outputId": "753be5b8-d006-4f21-d800-1cfb2cc7b250"
      },
      "outputs": [
        {
          "output_type": "stream",
          "name": "stdout",
          "text": [
            "['PASS', 100, 80, 70, 70, 60]\n"
          ]
        }
      ],
      "source": [
        "#list反轉\n",
        "A.reverse()\n",
        "print(A)"
      ]
    },
    {
      "cell_type": "code",
      "execution_count": 22,
      "metadata": {
        "colab": {
          "base_uri": "https://localhost:8080/"
        },
        "id": "r5LH9TBiABT9",
        "outputId": "b2475c4d-9a15-452d-8703-48c8083d81ae"
      },
      "outputs": [
        {
          "output_type": "stream",
          "name": "stdout",
          "text": [
            "['PASS', 100, 80, 70, 70]\n"
          ]
        }
      ],
      "source": [
        "#移除最後一個元素並回傳\n",
        "A.pop()\n",
        "print(A)"
      ]
    },
    {
      "cell_type": "code",
      "execution_count": 23,
      "metadata": {
        "colab": {
          "base_uri": "https://localhost:8080/"
        },
        "id": "963fQtylABT9",
        "outputId": "a6ff8eac-d7c9-47c3-df62-809f89e591f0"
      },
      "outputs": [
        {
          "output_type": "stream",
          "name": "stdout",
          "text": [
            "['PASS', 100, 80, 70]\n"
          ]
        }
      ],
      "source": [
        "#移除特定位置元素並回傳\n",
        "A.pop(3)   #移除第3個索引元素\n",
        "print(A)"
      ]
    },
    {
      "cell_type": "markdown",
      "metadata": {
        "id": "2r75XtcHABT9"
      },
      "source": [
        "### 字典 Dictionary 範例\n",
        "Dictionary 以大括號表示，可以同時儲存key(鍵)-value(值)資料, 每個鍵都用冒號（:)分隔，值之間用逗號隔開"
      ]
    },
    {
      "cell_type": "code",
      "execution_count": 24,
      "metadata": {
        "colab": {
          "base_uri": "https://localhost:8080/"
        },
        "id": "iZ3lfNR6ABT9",
        "outputId": "c7fa53bb-6ba1-4ed4-95f5-9c21a54c9f16"
      },
      "outputs": [
        {
          "output_type": "stream",
          "name": "stdout",
          "text": [
            "yes\n"
          ]
        }
      ],
      "source": [
        "dict = {}               #建立一空白字典\n",
        "dict['one'] = \"yes\"     #鍵'one'對應值'yes'\n",
        "print(dict['one'])      #列印'one'的 value"
      ]
    },
    {
      "cell_type": "code",
      "execution_count": 25,
      "metadata": {
        "colab": {
          "base_uri": "https://localhost:8080/"
        },
        "id": "9bzEIpNOABT9",
        "outputId": "be1df6d7-663c-47a3-bc4f-ecc54126b395"
      },
      "outputs": [
        {
          "output_type": "stream",
          "name": "stdout",
          "text": [
            "no\n",
            "{'one': 'yes', 2: 'no'}\n"
          ]
        }
      ],
      "source": [
        "dict[2] = \"no\"          # 令第2個 key對應＇no＇\n",
        "print(dict[2])          # 列印第2個 key的 value\n",
        "print(dict)             # 列印完整字典"
      ]
    },
    {
      "cell_type": "code",
      "execution_count": 26,
      "metadata": {
        "colab": {
          "base_uri": "https://localhost:8080/"
        },
        "id": "-ZZW6Mh_ABT-",
        "outputId": "06d4c170-4041-4d93-98a7-ee5b2baacae3"
      },
      "outputs": [
        {
          "output_type": "stream",
          "name": "stdout",
          "text": [
            "dict_keys(['name', 'code', 'dept'])\n",
            "dict_values(['john', 123, 'sales'])\n"
          ]
        }
      ],
      "source": [
        "dict2 = {'name': 'john','code':123, 'dept': 'sales'}\n",
        "print(dict2.keys())   # Prints all the keys\n",
        "print(dict2.values()) # Prints all the values"
      ]
    },
    {
      "cell_type": "markdown",
      "metadata": {
        "id": "eOgoP2zGABT-"
      },
      "source": [
        "# 2. Python變數與運算符"
      ]
    },
    {
      "cell_type": "markdown",
      "metadata": {
        "id": "1W1QZU_rABT-"
      },
      "source": [
        "### (1) 算術運算符"
      ]
    },
    {
      "cell_type": "code",
      "execution_count": 27,
      "metadata": {
        "colab": {
          "base_uri": "https://localhost:8080/"
        },
        "id": "Ni-Ccjt5ABT-",
        "outputId": "548302b0-933e-403b-f3ae-147e3079bf0b"
      },
      "outputs": [
        {
          "output_type": "stream",
          "name": "stdout",
          "text": [
            "28\n",
            "12\n",
            "160\n",
            "2.5\n",
            "4\n",
            "25600000000\n",
            "2\n"
          ]
        }
      ],
      "source": [
        "a=20; b=8;\n",
        "print(a + b)\n",
        "print(a - b)\n",
        "print(a * b)\n",
        "print(a / b)\n",
        "print(a % b)\n",
        "print(a ** b)\n",
        "print(a // b)"
      ]
    },
    {
      "cell_type": "markdown",
      "metadata": {
        "id": "-A_RmRC-ABT_"
      },
      "source": [
        "### (2) 比較運算符"
      ]
    },
    {
      "cell_type": "code",
      "execution_count": 28,
      "metadata": {
        "colab": {
          "base_uri": "https://localhost:8080/"
        },
        "id": "PqIRK_NSABT_",
        "outputId": "a26fbd43-7fd3-49d9-e2fb-f20e08d0c548"
      },
      "outputs": [
        {
          "output_type": "stream",
          "name": "stdout",
          "text": [
            "False\n",
            "True\n",
            "True\n",
            "False\n",
            "True\n",
            "False\n"
          ]
        }
      ],
      "source": [
        "a=20; b=8;\n",
        "print(a == b)\n",
        "print(a != b)\n",
        "print(a > b)\n",
        "print(a < b)\n",
        "print(a >= b)\n",
        "print(a <= b)"
      ]
    },
    {
      "cell_type": "markdown",
      "metadata": {
        "id": "rdqj1b2ZABT_"
      },
      "source": [
        "### (3)賦值運算符"
      ]
    },
    {
      "cell_type": "code",
      "execution_count": 29,
      "metadata": {
        "colab": {
          "base_uri": "https://localhost:8080/"
        },
        "id": "QUo6-w6RABUA",
        "outputId": "0c2c21d1-d42c-4f73-c324-9dbc1789191e"
      },
      "outputs": [
        {
          "output_type": "execute_result",
          "data": {
            "text/plain": [
              "28"
            ]
          },
          "metadata": {},
          "execution_count": 29
        }
      ],
      "source": [
        "a=20; b=8; c=0;\n",
        "c = a + b; c"
      ]
    },
    {
      "cell_type": "code",
      "execution_count": 30,
      "metadata": {
        "colab": {
          "base_uri": "https://localhost:8080/"
        },
        "id": "ex1jfrOVABUA",
        "outputId": "5cd78db6-61c4-4faf-f902-0293afccbc9c"
      },
      "outputs": [
        {
          "output_type": "execute_result",
          "data": {
            "text/plain": [
              "48"
            ]
          },
          "metadata": {},
          "execution_count": 30
        }
      ],
      "source": [
        "c += a; c"
      ]
    },
    {
      "cell_type": "code",
      "execution_count": 31,
      "metadata": {
        "colab": {
          "base_uri": "https://localhost:8080/"
        },
        "id": "q7NUrGd8ABUA",
        "outputId": "fc267f95-7e4e-4b1b-afb0-34e7eb99b713"
      },
      "outputs": [
        {
          "output_type": "execute_result",
          "data": {
            "text/plain": [
              "28"
            ]
          },
          "metadata": {},
          "execution_count": 31
        }
      ],
      "source": [
        "c -= a; c"
      ]
    },
    {
      "cell_type": "code",
      "execution_count": 32,
      "metadata": {
        "colab": {
          "base_uri": "https://localhost:8080/"
        },
        "id": "Z4z4-l6jABUB",
        "outputId": "3fec469c-6d99-470e-c08a-90bf7d210dca"
      },
      "outputs": [
        {
          "output_type": "execute_result",
          "data": {
            "text/plain": [
              "560"
            ]
          },
          "metadata": {},
          "execution_count": 32
        }
      ],
      "source": [
        "c *= a; c"
      ]
    },
    {
      "cell_type": "code",
      "execution_count": 33,
      "metadata": {
        "colab": {
          "base_uri": "https://localhost:8080/"
        },
        "id": "72AvVZJlABUB",
        "outputId": "35e1adea-6a20-4856-8bfc-5d8f71c00295"
      },
      "outputs": [
        {
          "output_type": "execute_result",
          "data": {
            "text/plain": [
              "28.0"
            ]
          },
          "metadata": {},
          "execution_count": 33
        }
      ],
      "source": [
        "c /= a; c"
      ]
    },
    {
      "cell_type": "code",
      "execution_count": 34,
      "metadata": {
        "colab": {
          "base_uri": "https://localhost:8080/"
        },
        "id": "6OTmnqGzABUB",
        "outputId": "2b93b16d-70a1-43e3-a013-dcbd3f5fe706"
      },
      "outputs": [
        {
          "output_type": "execute_result",
          "data": {
            "text/plain": [
              "8.0"
            ]
          },
          "metadata": {},
          "execution_count": 34
        }
      ],
      "source": [
        "c %= a; c"
      ]
    },
    {
      "cell_type": "code",
      "execution_count": 35,
      "metadata": {
        "colab": {
          "base_uri": "https://localhost:8080/"
        },
        "id": "CMNZfKwbABUB",
        "outputId": "a281cd79-7ee6-4a87-d1ba-8a7f71550825"
      },
      "outputs": [
        {
          "output_type": "execute_result",
          "data": {
            "text/plain": [
              "1048576"
            ]
          },
          "metadata": {},
          "execution_count": 35
        }
      ],
      "source": [
        "c=2; c **= a; c"
      ]
    },
    {
      "cell_type": "code",
      "execution_count": 36,
      "metadata": {
        "colab": {
          "base_uri": "https://localhost:8080/"
        },
        "id": "9ZtyAo96ABUB",
        "outputId": "f521fba3-0f4a-400f-dca8-c203214c4175"
      },
      "outputs": [
        {
          "output_type": "execute_result",
          "data": {
            "text/plain": [
              "52428"
            ]
          },
          "metadata": {},
          "execution_count": 36
        }
      ],
      "source": [
        "c //= a; c"
      ]
    },
    {
      "cell_type": "markdown",
      "metadata": {
        "id": "SN_fCLD8ABUB"
      },
      "source": [
        "### (4) 邏輯運算符"
      ]
    },
    {
      "cell_type": "code",
      "execution_count": 37,
      "metadata": {
        "colab": {
          "base_uri": "https://localhost:8080/"
        },
        "id": "6fDYIFRDABUC",
        "outputId": "b51592db-05e7-48f8-fba2-43a64611806b"
      },
      "outputs": [
        {
          "output_type": "execute_result",
          "data": {
            "text/plain": [
              "False"
            ]
          },
          "metadata": {},
          "execution_count": 37
        }
      ],
      "source": [
        "a=20; b=8; c=0;\n",
        "(a>b and b<c)"
      ]
    },
    {
      "cell_type": "code",
      "execution_count": 38,
      "metadata": {
        "colab": {
          "base_uri": "https://localhost:8080/"
        },
        "id": "LqmjVTNUABUC",
        "outputId": "a5588ebe-2164-48c8-bf2c-df22a195b9bd"
      },
      "outputs": [
        {
          "output_type": "execute_result",
          "data": {
            "text/plain": [
              "True"
            ]
          },
          "metadata": {},
          "execution_count": 38
        }
      ],
      "source": [
        "(a>b or b<c)"
      ]
    },
    {
      "cell_type": "code",
      "execution_count": 39,
      "metadata": {
        "colab": {
          "base_uri": "https://localhost:8080/"
        },
        "id": "vWyeHEBAABUC",
        "outputId": "cdbbe035-090c-4804-a10a-3612ca0760d3"
      },
      "outputs": [
        {
          "output_type": "execute_result",
          "data": {
            "text/plain": [
              "True"
            ]
          },
          "metadata": {},
          "execution_count": 39
        }
      ],
      "source": [
        "not (a>b and b<c)"
      ]
    },
    {
      "cell_type": "markdown",
      "metadata": {
        "id": "-mtmjH-kABUC"
      },
      "source": [
        "### (5) 成員運算符"
      ]
    },
    {
      "cell_type": "code",
      "execution_count": 40,
      "metadata": {
        "id": "VT0fykh9ABUC"
      },
      "outputs": [],
      "source": [
        "a = 20; b = 8;\n",
        "list = [9, 12, 18];"
      ]
    },
    {
      "cell_type": "code",
      "execution_count": 41,
      "metadata": {
        "colab": {
          "base_uri": "https://localhost:8080/"
        },
        "id": "PJLmta6_ABUC",
        "outputId": "54aa8de1-994c-467f-bed7-e8f60033f8d1"
      },
      "outputs": [
        {
          "output_type": "execute_result",
          "data": {
            "text/plain": [
              "False"
            ]
          },
          "metadata": {},
          "execution_count": 41
        }
      ],
      "source": [
        "(a in list)     #a是否在list中"
      ]
    },
    {
      "cell_type": "code",
      "execution_count": 42,
      "metadata": {
        "colab": {
          "base_uri": "https://localhost:8080/"
        },
        "id": "I-UwGWKvABUC",
        "outputId": "4f192d2a-ddc2-4065-91c3-1bd3231e18aa"
      },
      "outputs": [
        {
          "output_type": "execute_result",
          "data": {
            "text/plain": [
              "True"
            ]
          },
          "metadata": {},
          "execution_count": 42
        }
      ],
      "source": [
        "(b not in list)  #b是否不在list中"
      ]
    },
    {
      "cell_type": "markdown",
      "metadata": {
        "id": "7nQMatsrABUD"
      },
      "source": [
        "### (6) 身分運算符"
      ]
    },
    {
      "cell_type": "code",
      "execution_count": 43,
      "metadata": {
        "colab": {
          "base_uri": "https://localhost:8080/"
        },
        "id": "BAJHrkN-ABUD",
        "outputId": "87a24b10-72cf-4ca5-9110-72a8f8a3f24a"
      },
      "outputs": [
        {
          "output_type": "stream",
          "name": "stdout",
          "text": [
            "True\n",
            "False\n"
          ]
        }
      ],
      "source": [
        "a = [1, 2, 3]\n",
        "b = a\n",
        "print(b is a)\n",
        "print(b is not a)"
      ]
    },
    {
      "cell_type": "code",
      "execution_count": 44,
      "metadata": {
        "colab": {
          "base_uri": "https://localhost:8080/"
        },
        "id": "1YUheqvhABUD",
        "outputId": "5c7e649e-4813-45f6-ef49-bcee6def26e8"
      },
      "outputs": [
        {
          "output_type": "stream",
          "name": "stdout",
          "text": [
            "False\n",
            "True\n"
          ]
        }
      ],
      "source": [
        "a = ['apple','banana','orange']\n",
        "b = ['banana', 'apple', 'orange']\n",
        "print(a is b)\n",
        "print (a is not b)"
      ]
    },
    {
      "cell_type": "code",
      "execution_count": 45,
      "metadata": {
        "scrolled": true,
        "colab": {
          "base_uri": "https://localhost:8080/"
        },
        "id": "d4vuoTG5ABUD",
        "outputId": "2af24823-5e99-4358-a7f2-9939d2751db2"
      },
      "outputs": [
        {
          "output_type": "stream",
          "name": "stdout",
          "text": [
            "False\n"
          ]
        }
      ],
      "source": [
        "a=1\n",
        "b=1.0\n",
        "print(a is b)"
      ]
    },
    {
      "cell_type": "markdown",
      "metadata": {
        "id": "Isc3FWoBABUD"
      },
      "source": [
        "# 3. 輸入與輸出"
      ]
    },
    {
      "cell_type": "markdown",
      "metadata": {
        "id": "rkNRE4RLABUE"
      },
      "source": [
        "## ★input 及print指令"
      ]
    },
    {
      "cell_type": "code",
      "execution_count": 46,
      "metadata": {
        "colab": {
          "base_uri": "https://localhost:8080/"
        },
        "id": "O0msp0LXABUE",
        "outputId": "90d2ba00-9ac0-4dce-e8db-fea7c3708086"
      },
      "outputs": [
        {
          "output_type": "stream",
          "name": "stdout",
          "text": [
            "Please input your height (cm): 156\n",
            "height = 5.12 feet\n"
          ]
        }
      ],
      "source": [
        "height_cm = eval(input('Please input your height (cm): '))\n",
        "height_feet = height_cm/2.54/12\n",
        "\n",
        "print('height = %.2f feet' % height_feet)"
      ]
    },
    {
      "cell_type": "markdown",
      "metadata": {
        "id": "95ksJai0ABUE"
      },
      "source": [
        "### 參數格式化   print(項目, (參數列))\n",
        "        %s代表字串   %d代表數字    %f代表浮點數\n",
        "        控制位置  \n",
        "        %5s    固定列印5個字元,若少於5字元, 字串左方填入空白\n",
        "        %5d    固定列印5個字元,若少於5字元, 數字左方填入空白\n",
        "        %8.2f  固定列印8個字元(含小數點), 小數固定列印2位數,\n",
        "               若整數位少於6字元, 數字左方填入空白;\n",
        "               若小數位少於2位, 數字右方填入0"
      ]
    },
    {
      "cell_type": "code",
      "execution_count": 47,
      "metadata": {
        "colab": {
          "base_uri": "https://localhost:8080/"
        },
        "id": "NVta1GGCABUE",
        "outputId": "8f5b2b0f-3570-4b57-a491-13514e9df0da"
      },
      "outputs": [
        {
          "output_type": "stream",
          "name": "stdout",
          "text": [
            "BigData 成績 = 100\n"
          ]
        }
      ],
      "source": [
        "X=\"BigData\"\n",
        "score=100\n",
        "print(X, \"成績 =\", score)"
      ]
    },
    {
      "cell_type": "code",
      "execution_count": 48,
      "metadata": {
        "colab": {
          "base_uri": "https://localhost:8080/"
        },
        "id": "z6PsTpVPABUF",
        "outputId": "6f9b1373-4029-4b9b-d5ea-e56a9a1c2265"
      },
      "outputs": [
        {
          "output_type": "stream",
          "name": "stdout",
          "text": [
            "王小明 的成績= 95\n"
          ]
        }
      ],
      "source": [
        "name = \"王小明\"\n",
        "score = 95\n",
        "print(\"%s 的成績= %d\" % (name, score))"
      ]
    },
    {
      "cell_type": "code",
      "execution_count": 49,
      "metadata": {
        "colab": {
          "base_uri": "https://localhost:8080/"
        },
        "id": "vjtVVmX3ABUF",
        "outputId": "2c019821-fd84-491c-a12a-34c5d4821d34"
      },
      "outputs": [
        {
          "output_type": "stream",
          "name": "stdout",
          "text": [
            "  王小明 的成績=    95\n"
          ]
        }
      ],
      "source": [
        "name = \"王小明\"\n",
        "score = 95\n",
        "print(\"%5s 的成績= %5d\" % (name, score))"
      ]
    },
    {
      "cell_type": "code",
      "execution_count": 50,
      "metadata": {
        "colab": {
          "base_uri": "https://localhost:8080/"
        },
        "id": "KDQhPAA9ABUI",
        "outputId": "a973bbb1-3366-4585-a86f-41822c6c6d0b"
      },
      "outputs": [
        {
          "output_type": "stream",
          "name": "stdout",
          "text": [
            "  王小明 的成績=    95.00\n"
          ]
        }
      ],
      "source": [
        "name = \"王小明\"\n",
        "score = 95\n",
        "print(\"%5s 的成績= %8.2f\" % (name, score))"
      ]
    },
    {
      "cell_type": "markdown",
      "metadata": {
        "id": "1BhLywPcABUI"
      },
      "source": [
        "### 使用format方法"
      ]
    },
    {
      "cell_type": "code",
      "execution_count": 51,
      "metadata": {
        "colab": {
          "base_uri": "https://localhost:8080/"
        },
        "id": "1AVI4lMfABUI",
        "outputId": "ef052e68-b0ca-44d5-df65-3ae2a35cb17f"
      },
      "outputs": [
        {
          "output_type": "stream",
          "name": "stdout",
          "text": [
            "王小明 的成績= 95\n"
          ]
        }
      ],
      "source": [
        "name = \"王小明\"\n",
        "score = 95\n",
        "print(\"{} 的成績= {}\".format(name, score))   #第一個{}對應name,第二個{}對應score"
      ]
    },
    {
      "cell_type": "markdown",
      "metadata": {
        "id": "GMC0FcihABUI"
      },
      "source": [
        "## 範例：計算複利終值\n",
        "    FV=PV*(1+r)**N    FV:終值; PV:本金; r:年利率; N: 期數"
      ]
    },
    {
      "cell_type": "code",
      "execution_count": 52,
      "metadata": {
        "colab": {
          "base_uri": "https://localhost:8080/"
        },
        "id": "_n8RYJqGABUI",
        "outputId": "a34c7711-d787-457d-e65d-eab7d3df4ea7"
      },
      "outputs": [
        {
          "output_type": "stream",
          "name": "stdout",
          "text": [
            "11261.62419264\n"
          ]
        }
      ],
      "source": [
        "PV= 10000\n",
        "r= 0.02\n",
        "N= 6\n",
        "FV= PV*(1+r)**N\n",
        "print(FV)"
      ]
    },
    {
      "cell_type": "markdown",
      "metadata": {
        "id": "XRaHjgIJABUJ"
      },
      "source": [
        "### ★Input指令"
      ]
    },
    {
      "cell_type": "code",
      "execution_count": 53,
      "metadata": {
        "colab": {
          "base_uri": "https://localhost:8080/"
        },
        "id": "xlcDjAjYABUJ",
        "outputId": "7f25525b-d821-4303-b51f-12b986f16c47"
      },
      "outputs": [
        {
          "output_type": "stream",
          "name": "stdout",
          "text": [
            "請輸入本金金額(元)：1000\n",
            "請輸入年利率：2\n",
            "請輸入年限：10\n",
            "10 年後存款為(元)：59049000.00\n"
          ]
        }
      ],
      "source": [
        "PV= int(input(\"請輸入本金金額(元)：\"))\n",
        "r= float(input(\"請輸入年利率(%)：\"))\n",
        "N= int(input(\"請輸入年限：\"))\n",
        "FV= PV*(1+r)**N\n",
        "print(\"%d 年後存款為(元)：%8.2f\" % (N, FV))"
      ]
    }
  ],
  "metadata": {
    "kernelspec": {
      "display_name": "Python 3 (ipykernel)",
      "language": "python",
      "name": "python3"
    },
    "language_info": {
      "codemirror_mode": {
        "name": "ipython",
        "version": 3
      },
      "file_extension": ".py",
      "mimetype": "text/x-python",
      "name": "python",
      "nbconvert_exporter": "python",
      "pygments_lexer": "ipython3",
      "version": "3.11.7"
    },
    "colab": {
      "provenance": [],
      "include_colab_link": true
    }
  },
  "nbformat": 4,
  "nbformat_minor": 0
}