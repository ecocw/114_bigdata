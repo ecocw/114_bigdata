{
  "nbformat": 4,
  "nbformat_minor": 0,
  "metadata": {
    "colab": {
      "provenance": [],
      "include_colab_link": true
    },
    "kernelspec": {
      "name": "python3",
      "display_name": "Python 3"
    },
    "language_info": {
      "name": "python"
    }
  },
  "cells": [
    {
      "cell_type": "markdown",
      "metadata": {
        "id": "view-in-github",
        "colab_type": "text"
      },
      "source": [
        "<a href=\"https://colab.research.google.com/github/ecocw/114_bigdata/blob/AI_demo/%E5%93%A1%E7%91%9B%E5%BC%8F%E6%80%9D%E8%80%83%E7%94%9F%E6%88%90%E5%99%A8.ipynb\" target=\"_parent\"><img src=\"https://colab.research.google.com/assets/colab-badge.svg\" alt=\"Open In Colab\"/></a>"
      ]
    },
    {
      "cell_type": "markdown",
      "source": [
        "### 1. 申請自己的 API 金鑰\n",
        "\n",
        "不管用哪一個供應商的服務, 基本上都需要他們的 API 鑰, 可向下面幾家申請。\n",
        "\n",
        "#### (1) Mistral AI 金鑰 (可免費使用)\n",
        "\n",
        "請至 https://console.mistral.ai/ 註冊，並選擇 plan (可以選免費的), 接著就可以申請 Mistral AI 的金鑰。請把這個鑰存在左方鑰匙的部份, 以 \"Mistral\" 的名稱存起來。\n",
        "\n",
        "\n",
        "\n",
        "#### (2) OpenAI API 金鑰\n",
        "\n",
        "OpenAI 現在沒有免費的 quota 可以使用, 所以要用 OpenAI 的模型, 請自行儲值。一般練習 5 美金就很足夠。\n",
        "\n",
        "[`https://platform.openai.com`](https://platform.openai.com)\n",
        "\n",
        "請把這個鑰存在左方鑰匙的部份, 以 \"OpenAI\" 的名稱存起來。\n",
        "\n",
        "#### (3) 使用 Groq 金鑰 (可免費使用)\n",
        "\n",
        "Groq 最大的特點是速度很快, 而且可以免費使用 (只是有流量限制), 企業可以付費使用, 能用許多開源型的 LLM。請至 https://console.groq.com/ 註冊並申請金鑰。\n"
      ],
      "metadata": {
        "id": "0H2rAfmwjB_S"
      }
    },
    {
      "cell_type": "markdown",
      "source": [
        "#### 讀入你的金鑰\n",
        "\n",
        "請依你使用的服務, 決定讀入哪個金鑰"
      ],
      "metadata": {
        "id": "7YnD5hfb5sO8"
      }
    },
    {
      "cell_type": "code",
      "source": [
        "!pip install aisuite[all]"
      ],
      "metadata": {
        "id": "VXuGZtZnFZL2"
      },
      "execution_count": null,
      "outputs": []
    },
    {
      "cell_type": "code",
      "source": [
        "import aisuite as ai"
      ],
      "metadata": {
        "id": "12-gQRNrG612"
      },
      "execution_count": null,
      "outputs": []
    },
    {
      "cell_type": "code",
      "source": [
        "import os\n",
        "from google.colab import userdata"
      ],
      "metadata": {
        "id": "mGOx_1226Mjm"
      },
      "execution_count": null,
      "outputs": []
    },
    {
      "cell_type": "code",
      "source": [
        "#【使用 Mistral】\n",
        "# api_key = userdata.get('Mistral')\n",
        "# os.environ['MISTRAL']=api_key\n",
        "# provider = \"mistral\"\n",
        "# model = \"ministral-8b-latest\"\n",
        "\n",
        "#【使用 OpenAI】\n",
        "api_key = userdata.get('OpenAI')\n",
        "os.environ['OPENAI_API_KEY']=api_key\n",
        "provider = \"openai\"\n",
        "model = \"gpt-4o\"\n",
        "\n",
        "#【使用 Groq】\n",
        "# api_key = userdata.get('Groq')\n",
        "# os.environ['GROQ_API_KEY']=api_key\n",
        "# provider = \"groq\"\n",
        "# model = \"llama-3.3-70b-versatile\""
      ],
      "metadata": {
        "id": "L507G1B65rPo"
      },
      "execution_count": null,
      "outputs": []
    },
    {
      "cell_type": "markdown",
      "source": [
        "### 2. 打造員瑛式思考生成器"
      ],
      "metadata": {
        "id": "eeekaDo47R4F"
      }
    },
    {
      "cell_type": "markdown",
      "source": [
        "ChatGPT API 的重點是要把之前對話的內容送給 ChatGPT, 然後他就會有個適當的回應!\n",
        "\n",
        "角色 (`role`) 一共有三種, 分別是:\n",
        "\n",
        "* `system`: 這是對話機器人的「人設」\n",
        "* `user`: 使用者\n",
        "* `assistant`: ChatGPT 的回應"
      ],
      "metadata": {
        "id": "2QvMR3uRph__"
      }
    },
    {
      "cell_type": "markdown",
      "source": [
        "基本上過去的對話紀錄長這個樣子。\n",
        "\n",
        "    messages = [{\"role\":\"system\", \"content\":\"ChatGPT的「人設」\"},\n",
        "            {\"role\": \"user\", \"content\": \"使用者說\"},\n",
        "            {\"role\": \"assistant\", \"content\": \"ChatGPT回應\"},\n",
        "            ：\n",
        "            ：\n",
        "            {\"role\": \"user\", \"content\": prompt (最後說的)}]"
      ],
      "metadata": {
        "id": "W8Da7HZxwW78"
      }
    },
    {
      "cell_type": "code",
      "source": [
        "def reply(system=\"請用台灣習慣的中文回覆。\",\n",
        "          prompt=\"hi\",\n",
        "          provider=\"groq\",\n",
        "          model=\"llama-3.3-70b-versatile\"\n",
        "          ):\n",
        "\n",
        "    client = ai.Client()\n",
        "\n",
        "    messages = [\n",
        "        {\"role\": \"system\", \"content\": system},\n",
        "        {\"role\": \"user\", \"content\": prompt}\n",
        "    ]\n",
        "\n",
        "\n",
        "    response = client.chat.completions.create(model=f\"{provider}:{model}\", messages=messages)\n",
        "\n",
        "    return response.choices[0].message.content"
      ],
      "metadata": {
        "id": "nnCBkUS5GWxA"
      },
      "execution_count": null,
      "outputs": []
    },
    {
      "cell_type": "markdown",
      "source": [
        "請先為你的對話機器人做角色設定。"
      ],
      "metadata": {
        "id": "qekcDCsvvz2J"
      }
    },
    {
      "cell_type": "code",
      "source": [
        "system=\"\"\"\n",
        "請用台灣習慣的中文來寫這段 po 文：\n",
        "請用員瑛式思考, 也就是什麼都正向思維任何使用者寫的事情,\n",
        "用我的第一人稱、社群媒體 po 文的口吻說一次,\n",
        "說為什麼這是一件超幸運的事, 並且以「完全是 Lucky Vicky 呀!」結尾。\n",
        "可以適度的加上 emoji。\n",
        "\"\"\""
      ],
      "metadata": {
        "id": "dhX5GOkZGc9p"
      },
      "execution_count": null,
      "outputs": []
    },
    {
      "cell_type": "markdown",
      "source": [
        "試用一下 (預設的 Llama 3 70B)"
      ],
      "metadata": {
        "id": "Y9v6G3aRis9o"
      }
    },
    {
      "cell_type": "code",
      "source": [
        "prompt = \"今天咖啡灑到電腦上了!\"\n",
        "print(reply(system=system, prompt=prompt, provider=provider, model=model))"
      ],
      "metadata": {
        "id": "Y-SRjxmhxvbb"
      },
      "execution_count": null,
      "outputs": []
    },
    {
      "cell_type": "markdown",
      "source": [
        "選另一個模型試試。"
      ],
      "metadata": {
        "id": "6jirqppoxqe_"
      }
    },
    {
      "cell_type": "code",
      "source": [
        "# provider=\"openai\"\n",
        "# model=\"gpt-4o\"\n",
        "\n",
        "# provider=\"groq\"\n",
        "# model=\"gemma2-9b-it\"\n",
        "\n",
        "# 【使用 Mistral】\n",
        "# api_key = userdata.get('Mistral')\n",
        "# os.environ['MISTRAL']=api_key\n",
        "# provider = \"mistral\"\n",
        "# model = \"ministral-8b-latest\"\n",
        "\n",
        "# 【使用 OpenAI】\n",
        "# api_key = userdata.get('OpenAI')\n",
        "# os.environ['OPENAI_API_KEY']=api_key\n",
        "# provider = \"openai\"\n",
        "# model = \"gpt-4o\"\n",
        "\n",
        "# 【使用 Groq】\n",
        "api_key = userdata.get('Groq')\n",
        "os.environ['GROQ_API_KEY']=api_key\n",
        "provider = \"groq\"\n",
        "model = \"llama-3.3-70b-versatile\""
      ],
      "metadata": {
        "id": "bChhm9nejNC0"
      },
      "execution_count": null,
      "outputs": []
    },
    {
      "cell_type": "code",
      "source": [
        "print(reply(system=system, prompt=prompt, provider=provider, model=model))"
      ],
      "metadata": {
        "id": "uNqSSr5BhyGr"
      },
      "execution_count": null,
      "outputs": []
    },
    {
      "cell_type": "markdown",
      "source": [
        "### 3. 用 Gradio 打造 Web App\n",
        "\n",
        "我們先來安裝 `openai` 套件, 還有快速打造 Web App 的 `gradio`。"
      ],
      "metadata": {
        "id": "Ch-GA2w63pjm"
      }
    },
    {
      "cell_type": "code",
      "source": [
        "!pip install gradio"
      ],
      "metadata": {
        "id": "hAR65--V8IMH"
      },
      "execution_count": null,
      "outputs": []
    },
    {
      "cell_type": "code",
      "source": [
        "import gradio as gr"
      ],
      "metadata": {
        "id": "lNH0pPAnlWWm"
      },
      "execution_count": null,
      "outputs": []
    },
    {
      "cell_type": "code",
      "source": [
        "#改模型\n",
        "system=\"\"\"\n",
        "請用台灣習慣的中文來寫這段 po 文：\n",
        "請用員瑛式思考, 也就是什麼都正向思維任何使用者寫的事情,\n",
        "用我的第一人稱、社群媒體 po 文的口吻說一次,\n",
        "說為什麼這是一件超幸運的事, 並且以「完全是 Lucky Vicky 呀!」結尾。\n",
        "可以適度的加上 emoji。\n",
        "\"\"\""
      ],
      "metadata": {
        "id": "TPaoXqpNquOG"
      },
      "execution_count": null,
      "outputs": []
    },
    {
      "cell_type": "markdown",
      "source": [
        "## 設定你要的模型。"
      ],
      "metadata": {
        "id": "09xxxt45qv9T"
      }
    },
    {
      "cell_type": "code",
      "source": [
        "provider = \"openai\"\n",
        "model = \"gpt-4o\"\n",
        "\n",
        "# provider = \"groq\"\n",
        "# model = \"gemma2-9b-it\""
      ],
      "metadata": {
        "id": "A3N4a_mTmg-J"
      },
      "execution_count": null,
      "outputs": []
    },
    {
      "cell_type": "code",
      "source": [
        "def lucky_post(prompt):\n",
        "    response = reply(system=system,\n",
        "                     prompt=prompt,\n",
        "                     provider = provider,\n",
        "                     model = model\n",
        "                    )\n",
        "    return response"
      ],
      "metadata": {
        "id": "zLDl07TnnNYq"
      },
      "execution_count": null,
      "outputs": []
    },
    {
      "cell_type": "code",
      "source": [
        "with gr.Blocks(title=\"員瑛式思考產生器\") as demo:\n",
        "    gr.Markdown(\"### ꒰*ˊᵕˋ꒱ 員瑛式思考產生器 Lucky Vicky 🌈\")\n",
        "    gr.Markdown(\"請輸入一件你覺得超小事，甚至有點倒楣的事，讓我幫你用員瑛式思考，超正向的方式重新詮釋！\")\n",
        "\n",
        "    with gr.Row():\n",
        "        user_input = gr.Textbox(label=\"今天發生的事情是…\", placeholder=\"例如：今天出門就下大雨, 可是忘了帶傘...\")\n",
        "\n",
        "    submit_btn = gr.Button(\"Lucky Vicky 魔法!\")\n",
        "    output = gr.Textbox(label=\"📣 員瑛式貼文\")\n",
        "\n",
        "    submit_btn.click(fn=lucky_post, inputs=user_input, outputs=output)"
      ],
      "metadata": {
        "id": "tmoR7vCwlQF0"
      },
      "execution_count": null,
      "outputs": []
    },
    {
      "cell_type": "code",
      "source": [
        "demo.launch(share=True, debug=True)"
      ],
      "metadata": {
        "colab": {
          "base_uri": "https://localhost:8080/",
          "height": 610
        },
        "id": "qO91UeWzlTyV",
        "outputId": "fb6b76fb-7fc7-4bba-a84a-09baec954df5"
      },
      "execution_count": null,
      "outputs": [
        {
          "output_type": "stream",
          "name": "stdout",
          "text": [
            "Colab notebook detected. This cell will run indefinitely so that you can see errors and logs. To turn off, set debug=False in launch().\n",
            "* Running on public URL: https://c4791339640028623b.gradio.live\n",
            "\n",
            "This share link expires in 1 week. For free permanent hosting and GPU upgrades, run `gradio deploy` from the terminal in the working directory to deploy to Hugging Face Spaces (https://huggingface.co/spaces)\n"
          ]
        },
        {
          "output_type": "display_data",
          "data": {
            "text/plain": [
              "<IPython.core.display.HTML object>"
            ],
            "text/html": [
              "<div><iframe src=\"https://c4791339640028623b.gradio.live\" width=\"100%\" height=\"500\" allow=\"autoplay; camera; microphone; clipboard-read; clipboard-write;\" frameborder=\"0\" allowfullscreen></iframe></div>"
            ]
          },
          "metadata": {}
        }
      ]
    }
  ]
}