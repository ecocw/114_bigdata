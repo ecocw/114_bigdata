{
  "cells": [
    {
      "cell_type": "markdown",
      "metadata": {
        "id": "view-in-github",
        "colab_type": "text"
      },
      "source": [
        "<a href=\"https://colab.research.google.com/github/ecocw/114_bigdata/blob/main/%E3%80%8C01_pytorch_%E6%A8%99%E6%BA%96%E7%9A%84_Fully_Connected_(Dense)_NN_II_checkpoint_ipynb%E3%80%8D%E7%9A%84%E5%89%AF%E6%9C%AC.ipynb\" target=\"_parent\"><img src=\"https://colab.research.google.com/assets/colab-badge.svg\" alt=\"Open In Colab\"/></a>"
      ]
    },
    {
      "cell_type": "code",
      "execution_count": 28,
      "metadata": {
        "id": "SK2_XdXY6UMg"
      },
      "outputs": [],
      "source": [
        "%matplotlib inline\n",
        "\n",
        "import numpy as np\n",
        "import matplotlib.pyplot as plt\n",
        "import pandas as pd"
      ]
    },
    {
      "cell_type": "code",
      "execution_count": 29,
      "metadata": {
        "id": "h8hbd9p_6UMi"
      },
      "outputs": [],
      "source": [
        "import torch\n",
        "import torch.nn as nn\n",
        "from torch.optim import SGD"
      ]
    },
    {
      "cell_type": "markdown",
      "metadata": {
        "id": "nDqAVsva6UMi"
      },
      "source": [
        "### 1. 讀入 MNSIT 數據集"
      ]
    },
    {
      "cell_type": "code",
      "execution_count": 30,
      "metadata": {
        "id": "vNQzfRHg6UMj"
      },
      "outputs": [],
      "source": [
        "from torchvision import datasets"
      ]
    },
    {
      "cell_type": "markdown",
      "metadata": {
        "id": "eX9NEL_16UMk"
      },
      "source": [
        "以下要由 datasets 中的 MNIST 讀入訓練資料, 注意參數中\n",
        "\n",
        "* `'./data'` 是說下載後存在 `data` 資料夾\n",
        "* `train=True` 意思是這是訓練資料\n",
        "* `download=True` 意思是要下載到我們的磁碟機中"
      ]
    },
    {
      "cell_type": "code",
      "execution_count": 31,
      "metadata": {
        "id": "OQul9stL6UMk"
      },
      "outputs": [],
      "source": [
        "mnist_train = datasets.MNIST('./data', train=True,\n",
        "                             download=True)"
      ]
    },
    {
      "cell_type": "markdown",
      "metadata": {
        "id": "nqA3w5sp6UMl"
      },
      "source": [
        "測試資料讀入應該就沒有問題了。"
      ]
    },
    {
      "cell_type": "code",
      "execution_count": 32,
      "metadata": {
        "id": "qwkzBj9I6UMl"
      },
      "outputs": [],
      "source": [
        "mnist_test = datasets.MNIST('./data', train=False,\n",
        "                             download=True)"
      ]
    },
    {
      "cell_type": "markdown",
      "metadata": {
        "id": "fChZVfL96UMl"
      },
      "source": [
        "#### 你也可以讀入 Fasion 版的 MNIST"
      ]
    },
    {
      "cell_type": "code",
      "execution_count": 33,
      "metadata": {
        "id": "JeHF5mWE6UMm"
      },
      "outputs": [],
      "source": [
        "#"
      ]
    },
    {
      "cell_type": "markdown",
      "metadata": {
        "id": "iVqKuTaT6UMm"
      },
      "source": [
        "### 2. 欣賞數據集內容 (非執行必要)"
      ]
    },
    {
      "cell_type": "code",
      "execution_count": 34,
      "metadata": {
        "id": "aoKdD9sV6UMm"
      },
      "outputs": [],
      "source": [
        "no_train = len(mnist_train)\n",
        "no_test = len(mnist_test)"
      ]
    },
    {
      "cell_type": "code",
      "execution_count": 35,
      "metadata": {
        "id": "OZH3BNBg6UMm",
        "outputId": "1846288f-37d5-485e-91f6-5fd7a0066884",
        "colab": {
          "base_uri": "https://localhost:8080/"
        }
      },
      "outputs": [
        {
          "output_type": "stream",
          "name": "stdout",
          "text": [
            "有 60000 筆訓練資料,\n",
            "及 10000 筆測試資料。\n"
          ]
        }
      ],
      "source": [
        "print(f\"有 {no_train} 筆訓練資料,\")\n",
        "print(f\"及 {no_test} 筆測試資料。\")"
      ]
    },
    {
      "cell_type": "markdown",
      "metadata": {
        "id": "5HzE7msZ6UMm"
      },
      "source": [
        "輸入放在 `data`, 輸出放在 `targets` 中。"
      ]
    },
    {
      "cell_type": "code",
      "execution_count": 36,
      "metadata": {
        "id": "N6lWbRR76UMm"
      },
      "outputs": [],
      "source": [
        "n = 1732\n",
        "\n",
        "X = mnist_train.data[n]\n",
        "Y = mnist_train.targets[n]"
      ]
    },
    {
      "cell_type": "code",
      "execution_count": 37,
      "metadata": {
        "id": "Wulh87Yq6UMn",
        "outputId": "aca335a2-153e-4ff2-83e4-d396bd2383f5",
        "colab": {
          "base_uri": "https://localhost:8080/",
          "height": 447
        }
      },
      "outputs": [
        {
          "output_type": "stream",
          "name": "stdout",
          "text": [
            "標記正確答案為 9\n"
          ]
        },
        {
          "output_type": "display_data",
          "data": {
            "text/plain": [
              "<Figure size 640x480 with 1 Axes>"
            ],
            "image/png": "[encoded data removed]"
          },
          "metadata": {}
        }
      ],
      "source": [
        "plt.imshow(X, cmap='Greys')\n",
        "print(f\"標記正確答案為 {Y}\")"
      ]
    },
    {
      "cell_type": "markdown",
      "metadata": {
        "id": "mQTAbWM66UMn"
      },
      "source": [
        "### 3. 資料整理"
      ]
    },
    {
      "cell_type": "markdown",
      "metadata": {
        "id": "zIi8KKuG6UMn"
      },
      "source": [
        "原本 $28 \\times 28$ 的矩陣, 我們改為 784 維的向量, 並且都除以 255。要注意在 `pytorch` 的 tensor 運算中, 255 要很明確的告訴 `pytorch` 是浮點數"
      ]
    },
    {
      "cell_type": "code",
      "execution_count": 38,
      "metadata": {
        "id": "3COrxGc86UMn"
      },
      "outputs": [],
      "source": [
        "x_train = mnist_train.data.reshape(no_train, 784) / 255.\n",
        "x_test = mnist_test.data.reshape(no_test, 784) / 255."
      ]
    },
    {
      "cell_type": "markdown",
      "metadata": {
        "id": "W1dA5zyP6UMn"
      },
      "source": [
        "再來是訓練和測試資料的輸出 (正確答案)。這裡有個 `pytroch` 小技巧, 就是等等我們用 Cross Entropy 當 loss function 的時候, `pytorch` 不需要把我們這些輸出改為 one-hot encoding, 計算時自動會依 one-hot encoding 去計算。"
      ]
    },
    {
      "cell_type": "code",
      "execution_count": 39,
      "metadata": {
        "id": "Y6s1wxqY6UMn"
      },
      "outputs": [],
      "source": [
        "y_train = mnist_train.targets\n",
        "y_test = mnist_test.targets"
      ]
    },
    {
      "cell_type": "markdown",
      "metadata": {
        "id": "YV2Z5Vqj6UMo"
      },
      "source": [
        "### 4. step 1: 打造神經網路\n",
        "\n",
        "打造神經網路和 `tf.Keras` 風非常像! 如果要做兩層隱藏層, 各 100 個神經元是這樣做的。"
      ]
    },
    {
      "cell_type": "code",
      "execution_count": 40,
      "metadata": {
        "id": "PBzh9SEQ6UMo"
      },
      "outputs": [],
      "source": [
        "model = nn.Sequential(\n",
        "    nn.Linear(784, 100),\n",
        "    nn.ReLU(),\n",
        "    nn.Linear(100, 100),\n",
        "    nn.ReLU(),\n",
        "    nn.Linear(100, 10))"
      ]
    },
    {
      "cell_type": "markdown",
      "metadata": {
        "id": "C1oyJFdh6UMo"
      },
      "source": [
        "再次注意輸出層沒有用 `Softmax`, 這是 (再一次) `pytorch` 的 Cross Entropy 就內建了。"
      ]
    },
    {
      "cell_type": "markdown",
      "metadata": {
        "id": "DTitD1ZB6UMo"
      },
      "source": [
        "### 定義 (選擇) 我們的 loss function 和優化方式"
      ]
    },
    {
      "cell_type": "code",
      "execution_count": 41,
      "metadata": {
        "id": "nzxgKLMk6UMo"
      },
      "outputs": [],
      "source": [
        "loss_fcn = nn.CrossEntropyLoss()"
      ]
    },
    {
      "cell_type": "code",
      "execution_count": 42,
      "metadata": {
        "id": "EotyeVg16UMo"
      },
      "outputs": [],
      "source": [
        "optimizer = SGD(model.parameters(), lr=0.087)"
      ]
    },
    {
      "cell_type": "markdown",
      "metadata": {
        "id": "AeKCv0zJ6UMo"
      },
      "source": [
        "### 5. step 2: 訓練\n",
        "\n",
        "我們先來慢動作做一次! 現在我們的 model 就是我們函數學習機, 已經可以動作! 於是我們要計算 loss, 當然是..."
      ]
    },
    {
      "cell_type": "code",
      "execution_count": 43,
      "metadata": {
        "id": "xLjESFT76UMo"
      },
      "outputs": [],
      "source": [
        "predict = model(x_train)"
      ]
    },
    {
      "cell_type": "code",
      "execution_count": 44,
      "metadata": {
        "scrolled": true,
        "id": "u7tyF1d-6UMo"
      },
      "outputs": [],
      "source": [
        "loss = loss_fcn(predict, y_train)"
      ]
    },
    {
      "cell_type": "markdown",
      "metadata": {
        "id": "4eMTPKIx6UMo"
      },
      "source": [
        "也可欣賞一下 loss 大小。"
      ]
    },
    {
      "cell_type": "code",
      "execution_count": 45,
      "metadata": {
        "id": "-6rw3SIZ6UMp",
        "outputId": "253da93d-97c4-4183-d78d-c1a1e7c8dbe7",
        "colab": {
          "base_uri": "https://localhost:8080/"
        }
      },
      "outputs": [
        {
          "output_type": "execute_result",
          "data": {
            "text/plain": [
              "tensor(2.2996, grad_fn=<NllLossBackward0>)"
            ]
          },
          "metadata": {},
          "execution_count": 45
        }
      ],
      "source": [
        "loss"
      ]
    },
    {
      "cell_type": "markdown",
      "metadata": {
        "id": "LvUeFK6O6UMp"
      },
      "source": [
        "這時我們可以對 loss 做 gradient descent, 不過因為每次要調的大小預設是累進的, 所以我們要做個 gradient 歸零的動作。"
      ]
    },
    {
      "cell_type": "code",
      "execution_count": 46,
      "metadata": {
        "id": "weK5XpAn6UMp"
      },
      "outputs": [],
      "source": [
        "optimizer.zero_grad()"
      ]
    },
    {
      "cell_type": "markdown",
      "metadata": {
        "id": "aX1cdmcj6UMp"
      },
      "source": [
        "接著對 loss 做 backpropagation。"
      ]
    },
    {
      "cell_type": "code",
      "execution_count": 47,
      "metadata": {
        "id": "CuHGktP46UMp"
      },
      "outputs": [],
      "source": [
        "loss.backward()"
      ]
    },
    {
      "cell_type": "markdown",
      "metadata": {
        "id": "97Ljep7L6UMp"
      },
      "source": [
        "再把參數更新!"
      ]
    },
    {
      "cell_type": "code",
      "execution_count": 48,
      "metadata": {
        "id": "iTwxLN606UMp"
      },
      "outputs": [],
      "source": [
        "optimizer.step()"
      ]
    },
    {
      "cell_type": "markdown",
      "metadata": {
        "id": "FVyxDXVx6UMp"
      },
      "source": [
        "計算一下正確率..."
      ]
    },
    {
      "cell_type": "code",
      "execution_count": 49,
      "metadata": {
        "id": "Bzop732a6UMt"
      },
      "outputs": [],
      "source": [
        "predict = model(x_train)"
      ]
    },
    {
      "cell_type": "code",
      "execution_count": 50,
      "metadata": {
        "id": "m8y_jT5n6UMt"
      },
      "outputs": [],
      "source": [
        "_, predict_class = torch.max(predict, 1)"
      ]
    },
    {
      "cell_type": "code",
      "execution_count": 51,
      "metadata": {
        "id": "wz1qnwEQ6UMt"
      },
      "outputs": [],
      "source": [
        "acc = (predict_class == y_train).sum() / float(no_train)*100"
      ]
    },
    {
      "cell_type": "code",
      "execution_count": 52,
      "metadata": {
        "id": "BzujCz-k6UMt",
        "outputId": "5b4137a0-692f-4267-9df4-301520e0f842",
        "colab": {
          "base_uri": "https://localhost:8080/"
        }
      },
      "outputs": [
        {
          "output_type": "stream",
          "name": "stdout",
          "text": [
            "目前正確率 10.71%\n"
          ]
        }
      ],
      "source": [
        "print(f\"目前正確率 {acc:.2f}%\")"
      ]
    },
    {
      "cell_type": "markdown",
      "metadata": {
        "id": "S6yhOo6P6UMu"
      },
      "source": [
        "現在合起來做!"
      ]
    },
    {
      "cell_type": "code",
      "execution_count": 27,
      "metadata": {
        "id": "kYFVNuS-6UMu",
        "outputId": "cf2caae1-900f-459f-fd3c-105d90528912",
        "colab": {
          "base_uri": "https://localhost:8080/"
        }
      },
      "outputs": [
        {
          "output_type": "stream",
          "name": "stdout",
          "text": [
            "目前正確率 15.24%\n",
            "目前正確率 16.23%\n",
            "目前正確率 17.00%\n",
            "目前正確率 17.58%\n",
            "目前正確率 18.13%\n",
            "目前正確率 18.65%\n",
            "目前正確率 19.08%\n",
            "目前正確率 19.55%\n",
            "目前正確率 20.02%\n",
            "目前正確率 20.52%\n"
          ]
        }
      ],
      "source": [
        "predict = model(x_train)\n",
        "\n",
        "for i in range(10):\n",
        "    loss = loss_fcn(predict, y_train)\n",
        "    optimizer.zero_grad()\n",
        "    loss.backward()\n",
        "    optimizer.step()\n",
        "    predict = model(x_train)\n",
        "    _, predict_class = torch.max(predict, 1)\n",
        "    acc = (predict_class == y_train).sum() / float(no_train)*100\n",
        "    print(f\"目前正確率 {acc:.2f}%\")"
      ]
    },
    {
      "cell_type": "markdown",
      "metadata": {
        "id": "-_7x_KSJ6UMu"
      },
      "source": [
        "### 6. step 3: 預測 (testing)"
      ]
    },
    {
      "cell_type": "code",
      "execution_count": 53,
      "metadata": {
        "id": "vr4PqZbf6UMu"
      },
      "outputs": [],
      "source": [
        "predict = model(x_test)\n",
        "_, predict_class = torch.max(predict, 1)"
      ]
    },
    {
      "cell_type": "code",
      "execution_count": 54,
      "metadata": {
        "id": "I2jf0FeM6UMu",
        "outputId": "5c69c9db-951f-4e77-abf9-18965be86d2a",
        "colab": {
          "base_uri": "https://localhost:8080/"
        }
      },
      "outputs": [
        {
          "output_type": "stream",
          "name": "stdout",
          "text": [
            "測試資料正確率為 10.55%\n"
          ]
        }
      ],
      "source": [
        "acc = (predict_class == y_test).sum() / float(no_test)*100\n",
        "print(f\"測試資料正確率為 {acc:.2f}%\")"
      ]
    },
    {
      "cell_type": "code",
      "execution_count": 55,
      "metadata": {
        "id": "KjGE49P-6UMu",
        "outputId": "f2f65ffb-9fd0-41a3-f0a8-30cdbc7d0dad",
        "colab": {
          "base_uri": "https://localhost:8080/",
          "height": 447
        }
      },
      "outputs": [
        {
          "output_type": "stream",
          "name": "stdout",
          "text": [
            "神經網路預測是: tensor(5)\n"
          ]
        },
        {
          "output_type": "display_data",
          "data": {
            "text/plain": [
              "<Figure size 640x480 with 1 Axes>"
            ],
            "image/png": "[encoded data removed]"
          },
          "metadata": {}
        }
      ],
      "source": [
        "n = 9487\n",
        "\n",
        "print('神經網路預測是:', predict_class[n])\n",
        "plt.imshow(x_test[n].reshape(28,28), cmap='Greys');"
      ]
    }
  ],
  "metadata": {
    "kernelspec": {
      "display_name": "Python [conda env:torch-py37]",
      "language": "python",
      "name": "conda-env-torch-py37-py"
    },
    "language_info": {
      "codemirror_mode": {
        "name": "ipython",
        "version": 3
      },
      "file_extension": ".py",
      "mimetype": "text/x-python",
      "name": "python",
      "nbconvert_exporter": "python",
      "pygments_lexer": "ipython3",
      "version": "3.7.7"
    },
    "colab": {
      "provenance": [],
      "include_colab_link": true
    }
  },
  "nbformat": 4,
  "nbformat_minor": 0
}